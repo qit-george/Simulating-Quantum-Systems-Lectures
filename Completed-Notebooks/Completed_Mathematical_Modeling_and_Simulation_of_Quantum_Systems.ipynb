{
  "nbformat": 4,
  "nbformat_minor": 0,
  "metadata": {
    "colab": {
      "provenance": []
    },
    "kernelspec": {
      "name": "python3",
      "display_name": "Python 3"
    },
    "language_info": {
      "name": "python"
    }
  },
  "cells": [
    {
      "cell_type": "markdown",
      "source": [
        "# Session 1: Mathematical Modeling and Simulation of Quantum Systems\n",
        "# (Completed Notebook)"
      ],
      "metadata": {
        "id": "u18ffyeyv-hO"
      }
    },
    {
      "cell_type": "markdown",
      "source": [
        "In this session we introduce the basic mathematical formalism of quantum information processing and how to manipulate this mathematical formalism in Python using NumPy and Qiskit. This both re-inforces concepts in the lecture and introduces useful syntax in Numpy and Qiskit."
      ],
      "metadata": {
        "id": "2nSXcQAiwFlz"
      }
    },
    {
      "cell_type": "markdown",
      "source": [
        "## Setting Up the Notebook\n",
        "\n",
        "These are just the commands for importing the packages we will use."
      ],
      "metadata": {
        "id": "JFASksluw25x"
      }
    },
    {
      "cell_type": "code",
      "source": [
        "# Install qiskit and graphical representation we will use\n",
        "!pip install qiskit\n",
        "!pip install qiskit-aer"
      ],
      "metadata": {
        "id": "M1Z_jkLswwgL",
        "colab": {
          "base_uri": "https://localhost:8080/"
        },
        "outputId": "9912ac10-dfef-4c69-aa3a-3771405df816"
      },
      "execution_count": null,
      "outputs": [
        {
          "output_type": "stream",
          "name": "stdout",
          "text": [
            "Collecting qiskit\n",
            "  Downloading qiskit-1.1.0-cp38-abi3-manylinux_2_17_x86_64.manylinux2014_x86_64.whl (4.3 MB)\n",
            "\u001b[2K     \u001b[90m━━━━━━━━━━━━━━━━━━━━━━━━━━━━━━━━━━━━━━━━\u001b[0m \u001b[32m4.3/4.3 MB\u001b[0m \u001b[31m17.5 MB/s\u001b[0m eta \u001b[36m0:00:00\u001b[0m\n",
            "\u001b[?25hCollecting rustworkx>=0.14.0 (from qiskit)\n",
            "  Downloading rustworkx-0.14.2-cp310-cp310-manylinux_2_17_x86_64.manylinux2014_x86_64.whl (2.1 MB)\n",
            "\u001b[2K     \u001b[90m━━━━━━━━━━━━━━━━━━━━━━━━━━━━━━━━━━━━━━━━\u001b[0m \u001b[32m2.1/2.1 MB\u001b[0m \u001b[31m35.9 MB/s\u001b[0m eta \u001b[36m0:00:00\u001b[0m\n",
            "\u001b[?25hRequirement already satisfied: numpy<3,>=1.17 in /usr/local/lib/python3.10/dist-packages (from qiskit) (1.25.2)\n",
            "Requirement already satisfied: scipy>=1.5 in /usr/local/lib/python3.10/dist-packages (from qiskit) (1.11.4)\n",
            "Requirement already satisfied: sympy>=1.3 in /usr/local/lib/python3.10/dist-packages (from qiskit) (1.12)\n",
            "Collecting dill>=0.3 (from qiskit)\n",
            "  Downloading dill-0.3.8-py3-none-any.whl (116 kB)\n",
            "\u001b[2K     \u001b[90m━━━━━━━━━━━━━━━━━━━━━━━━━━━━━━━━━━━━━━━━\u001b[0m \u001b[32m116.3/116.3 kB\u001b[0m \u001b[31m10.2 MB/s\u001b[0m eta \u001b[36m0:00:00\u001b[0m\n",
            "\u001b[?25hRequirement already satisfied: python-dateutil>=2.8.0 in /usr/local/lib/python3.10/dist-packages (from qiskit) (2.8.2)\n",
            "Collecting stevedore>=3.0.0 (from qiskit)\n",
            "  Downloading stevedore-5.2.0-py3-none-any.whl (49 kB)\n",
            "\u001b[2K     \u001b[90m━━━━━━━━━━━━━━━━━━━━━━━━━━━━━━━━━━━━━━━━\u001b[0m \u001b[32m49.7/49.7 kB\u001b[0m \u001b[31m2.5 MB/s\u001b[0m eta \u001b[36m0:00:00\u001b[0m\n",
            "\u001b[?25hRequirement already satisfied: typing-extensions in /usr/local/lib/python3.10/dist-packages (from qiskit) (4.11.0)\n",
            "Collecting symengine>=0.11 (from qiskit)\n",
            "  Downloading symengine-0.11.0-cp310-cp310-manylinux_2_12_x86_64.manylinux2010_x86_64.whl (39.4 MB)\n",
            "\u001b[2K     \u001b[90m━━━━━━━━━━━━━━━━━━━━━━━━━━━━━━━━━━━━━━━━\u001b[0m \u001b[32m39.4/39.4 MB\u001b[0m \u001b[31m9.3 MB/s\u001b[0m eta \u001b[36m0:00:00\u001b[0m\n",
            "\u001b[?25hRequirement already satisfied: six>=1.5 in /usr/local/lib/python3.10/dist-packages (from python-dateutil>=2.8.0->qiskit) (1.16.0)\n",
            "Collecting pbr!=2.1.0,>=2.0.0 (from stevedore>=3.0.0->qiskit)\n",
            "  Downloading pbr-6.0.0-py2.py3-none-any.whl (107 kB)\n",
            "\u001b[2K     \u001b[90m━━━━━━━━━━━━━━━━━━━━━━━━━━━━━━━━━━━━━━━━\u001b[0m \u001b[32m107.5/107.5 kB\u001b[0m \u001b[31m5.4 MB/s\u001b[0m eta \u001b[36m0:00:00\u001b[0m\n",
            "\u001b[?25hRequirement already satisfied: mpmath>=0.19 in /usr/local/lib/python3.10/dist-packages (from sympy>=1.3->qiskit) (1.3.0)\n",
            "Installing collected packages: symengine, rustworkx, pbr, dill, stevedore, qiskit\n",
            "Successfully installed dill-0.3.8 pbr-6.0.0 qiskit-1.1.0 rustworkx-0.14.2 stevedore-5.2.0 symengine-0.11.0\n",
            "Collecting qiskit-aer\n",
            "  Downloading qiskit_aer-0.14.1-cp310-cp310-manylinux_2_17_x86_64.manylinux2014_x86_64.whl (12.3 MB)\n",
            "\u001b[2K     \u001b[90m━━━━━━━━━━━━━━━━━━━━━━━━━━━━━━━━━━━━━━━━\u001b[0m \u001b[32m12.3/12.3 MB\u001b[0m \u001b[31m46.6 MB/s\u001b[0m eta \u001b[36m0:00:00\u001b[0m\n",
            "\u001b[?25hRequirement already satisfied: qiskit>=0.45.0 in /usr/local/lib/python3.10/dist-packages (from qiskit-aer) (1.1.0)\n",
            "Requirement already satisfied: numpy>=1.16.3 in /usr/local/lib/python3.10/dist-packages (from qiskit-aer) (1.25.2)\n",
            "Requirement already satisfied: scipy>=1.0 in /usr/local/lib/python3.10/dist-packages (from qiskit-aer) (1.11.4)\n",
            "Requirement already satisfied: psutil>=5 in /usr/local/lib/python3.10/dist-packages (from qiskit-aer) (5.9.5)\n",
            "Requirement already satisfied: rustworkx>=0.14.0 in /usr/local/lib/python3.10/dist-packages (from qiskit>=0.45.0->qiskit-aer) (0.14.2)\n",
            "Requirement already satisfied: sympy>=1.3 in /usr/local/lib/python3.10/dist-packages (from qiskit>=0.45.0->qiskit-aer) (1.12)\n",
            "Requirement already satisfied: dill>=0.3 in /usr/local/lib/python3.10/dist-packages (from qiskit>=0.45.0->qiskit-aer) (0.3.8)\n",
            "Requirement already satisfied: python-dateutil>=2.8.0 in /usr/local/lib/python3.10/dist-packages (from qiskit>=0.45.0->qiskit-aer) (2.8.2)\n",
            "Requirement already satisfied: stevedore>=3.0.0 in /usr/local/lib/python3.10/dist-packages (from qiskit>=0.45.0->qiskit-aer) (5.2.0)\n",
            "Requirement already satisfied: typing-extensions in /usr/local/lib/python3.10/dist-packages (from qiskit>=0.45.0->qiskit-aer) (4.11.0)\n",
            "Requirement already satisfied: symengine>=0.11 in /usr/local/lib/python3.10/dist-packages (from qiskit>=0.45.0->qiskit-aer) (0.11.0)\n",
            "Requirement already satisfied: six>=1.5 in /usr/local/lib/python3.10/dist-packages (from python-dateutil>=2.8.0->qiskit>=0.45.0->qiskit-aer) (1.16.0)\n",
            "Requirement already satisfied: pbr!=2.1.0,>=2.0.0 in /usr/local/lib/python3.10/dist-packages (from stevedore>=3.0.0->qiskit>=0.45.0->qiskit-aer) (6.0.0)\n",
            "Requirement already satisfied: mpmath>=0.19 in /usr/local/lib/python3.10/dist-packages (from sympy>=1.3->qiskit>=0.45.0->qiskit-aer) (1.3.0)\n",
            "Installing collected packages: qiskit-aer\n",
            "Successfully installed qiskit-aer-0.14.1\n"
          ]
        }
      ]
    },
    {
      "cell_type": "code",
      "source": [
        "# Import relevant code from Qiskit\n",
        "from qiskit import *\n",
        "from qiskit.circuit.library import *\n",
        "from qiskit.quantum_info import Statevector\n",
        "from qiskit.visualization import plot_histogram, plot_state_city\n",
        "from qiskit_aer import AerSimulator"
      ],
      "metadata": {
        "id": "Ln3Xf6v7pmJz"
      },
      "execution_count": null,
      "outputs": []
    },
    {
      "cell_type": "code",
      "execution_count": null,
      "metadata": {
        "id": "vG_kzElwvuCV"
      },
      "outputs": [],
      "source": [
        "# Import numpy\n",
        "import numpy as np\n",
        "from numpy import sqrt #So we don't have to call math function"
      ]
    },
    {
      "cell_type": "markdown",
      "source": [
        "## Exercises 1: Working with Quantum States"
      ],
      "metadata": {
        "id": "GCjmRrYvw6L4"
      }
    },
    {
      "cell_type": "markdown",
      "source": [
        "We saw quantum states are unit vectors\n",
        "$$ \\vert \\psi \\rangle = \\sum_{i} \\alpha_{i} \\vert i \\rangle = \\begin{bmatrix} \\alpha_{0} \\\\ \\alpha_{1} \\\\ \\vdots \\\\ \\alpha_{d} \\end{bmatrix} \\ . $$\n",
        "It follows we can represent them using packages that handle linear algebra. We will start by using NumPy. For example, we can declare the qubit state $\\vert + \\rangle = \\frac{1}{\\sqrt{2}}\\left( \\vert 0 \\rangle + \\vert 1 \\rangle \\right)$ as a vector in numpy via\n",
        "\n",
        "\n",
        "```\n",
        "  plus_state = 1/math.sqrt(2) * np.array([1,1])\n",
        "```\n",
        "Here we explore quantum states more using numerical methods.\n",
        "\n"
      ],
      "metadata": {
        "id": "7up7raCLVhmj"
      }
    },
    {
      "cell_type": "markdown",
      "source": [
        "**Problem 1.1** Initialize the following states:\n",
        "\n",
        "$\\vert 0 \\rangle = \\begin{bmatrix} 1 \\\\ 0 \\end{bmatrix}$, $\\vert 1 \\rangle = \\begin{bmatrix} 0 \\\\ 1 \\end{bmatrix}$, $\\vert + \\rangle = \\frac{1}{\\sqrt{2}}\\begin{bmatrix} 1 \\\\ 1 \\end{bmatrix}$, $\\vert - \\rangle = \\frac{1}{\\sqrt{2}}\\begin{bmatrix} 1 \\\\ -1 \\end{bmatrix}$, $\\vert \\widetilde{+} \\rangle = \\frac{1}{\\sqrt{2}}\\begin{bmatrix} 1 \\\\ i \\end{bmatrix}$, $\\vert \\widetilde{-} \\rangle = \\frac{1}{\\sqrt{2}}\\begin{bmatrix} 1 \\\\ -i \\end{bmatrix} \\  $ \\\\\n",
        "by intializing $\\vert 0 \\rangle$ and $\\vert 1 \\rangle$ and using linearity to intialize the others.\n",
        "\n",
        "**Note:** The complex number $\\alpha = 5 + i6$ is initialized as\n",
        "\n",
        "```\n",
        "  alpha = 5+6j\n",
        "```\n",
        "\n",
        "\n"
      ],
      "metadata": {
        "id": "WiKH4D1VXgdn"
      }
    },
    {
      "cell_type": "code",
      "source": [
        "zero_state = np.matrix([[1],[0]]) #Note the extra brackets so that this is a column vector\n",
        "one_state = np.matrix([[0],[1]])\n",
        "plus_state = 1/sqrt(2) * (zero_state + one_state)\n",
        "minus_state = 1/sqrt(2) * (zero_state - one_state)\n",
        "ptilde_state = 1/sqrt(2) * (zero_state + 1j * one_state)\n",
        "mtilde_state = 1/sqrt(2) * (zero_state - 1j * one_state)"
      ],
      "metadata": {
        "id": "UFnxZRi7v_6r"
      },
      "execution_count": null,
      "outputs": []
    },
    {
      "cell_type": "markdown",
      "source": [
        "**Problem 1.2** It turns out that the pairs $\\{\\vert 0 \\rangle, \\vert 1 \\rangle \\}$, $\\{\\vert + \\rangle, \\vert - \\rangle \\}$, $\\{\\vert \\widetilde{+} \\rangle, \\vert \\widetilde{-} \\rangle \\}$ each form a basis for $\\mathbb{C}^{2}$, i.e. qubits. It follows they can be expressed by eachother. Verify the following identities:\n",
        "\n",
        "\n",
        "a.   $\\vert 0 \\rangle = \\frac{1}{\\sqrt{2}}\\left(\\vert + \\rangle + \\vert - \\rangle \\right)$ \\\\\n",
        "b.   $\\vert 1 \\rangle = \\frac{-i}{\\sqrt{2}}\\left(\\vert \\widetilde{+} \\rangle - \\vert \\widetilde{-} \\rangle \\right)$\n",
        "\n",
        "**Note:** One option for comparision to use the function `np.isclose()`.\n",
        "\n",
        "\n",
        "\n"
      ],
      "metadata": {
        "id": "ETB5INWJbzuP"
      }
    },
    {
      "cell_type": "code",
      "source": [
        "np.isclose(1/sqrt(2)*(plus_state+minus_state),zero_state)"
      ],
      "metadata": {
        "colab": {
          "base_uri": "https://localhost:8080/"
        },
        "id": "HDtbT5vycsLn",
        "outputId": "c5520743-9998-4cb7-a787-45770dd3f95a"
      },
      "execution_count": null,
      "outputs": [
        {
          "output_type": "execute_result",
          "data": {
            "text/plain": [
              "matrix([[ True],\n",
              "        [ True]])"
            ]
          },
          "metadata": {},
          "execution_count": 5
        }
      ]
    },
    {
      "cell_type": "code",
      "source": [
        "np.isclose(-1j/sqrt(2)*(ptilde_state-mtilde_state),one_state)"
      ],
      "metadata": {
        "colab": {
          "base_uri": "https://localhost:8080/"
        },
        "id": "Uj1V-lG_ekPr",
        "outputId": "e86fc4ea-adaf-4a53-a3fb-f78c675dfa9e"
      },
      "execution_count": null,
      "outputs": [
        {
          "output_type": "execute_result",
          "data": {
            "text/plain": [
              "matrix([[ True],\n",
              "        [ True]])"
            ]
          },
          "metadata": {},
          "execution_count": 6
        }
      ]
    },
    {
      "cell_type": "markdown",
      "source": [
        "We saw we can look at the \"overlap\" between quantum states $\\vert \\psi \\rangle$, $\\vert \\phi \\rangle$ by their inner product: $\\langle \\psi \\vert \\phi \\rangle$. This can be computed by taking the complex conjugate of $\\vert \\psi \\rangle$ and multiplying it by $\\vert \\phi \\rangle$.\n",
        "\n",
        "**Problem 1.3** Calculate the overlaps and norm of some of the states declared in Problem 1.1. In particular, determine: \\\\\n",
        "1. Inner product $\\langle \\widetilde{+} \\vert - \\rangle$\n",
        "2. Overlap $\\vert \\langle \\widetilde{+} \\vert - \\rangle \\vert^{2}$ (note the difference is this is the absolute value squared)\n",
        "3. Inner product $\\langle \\widetilde{+} \\vert \\widetilde{-} \\rangle$\n",
        "4. The states are unit vectors, e.g. $\\vert \\langle 0 \\vert 0 \\rangle \\vert^{2} = 1$.\n",
        "\n",
        "Write down how you think these calculations result to Problem 1.2 as well as the Bloch sphere picture shown in the lecture slides.\n",
        "\n",
        "**Syntax Hint:** In NumPy, the complex conjugate of a matrix (and thus vector) `M` is returned via `M.H`. Thus, we can compute $\\vert \\widetilde{-} \\vert \\widetilde{-} \\vert^{2}$  via\n",
        "\n",
        "\n",
        "```\n",
        "  abs(mtilde_state.H * mtilde_state)**2\n",
        "```\n",
        "\n"
      ],
      "metadata": {
        "id": "Fg01VOwXbnAW"
      }
    },
    {
      "cell_type": "code",
      "source": [
        "#1.3.1\n",
        "print(ptilde_state.H*minus_state)\n",
        "\n",
        "#1.3.2\n",
        "print(abs(ptilde_state.H*minus_state)**2)\n",
        "\n",
        "#1.3.3\n",
        "print(ptilde_state.H*mtilde_state)\n",
        "\n",
        "#1.3.4\n",
        "print(ptilde_state.H*ptilde_state)\n",
        "print(ptilde_state.H*mtilde_state)"
      ],
      "metadata": {
        "colab": {
          "base_uri": "https://localhost:8080/"
        },
        "id": "WSOsIHdraUSt",
        "outputId": "eceed92a-1286-46bc-f27d-2515cf7fb3f4"
      },
      "execution_count": null,
      "outputs": [
        {
          "output_type": "stream",
          "name": "stdout",
          "text": [
            "[[0.5+0.5j]]\n",
            "[[0.5]]\n",
            "[[0.+0.j]]\n",
            "[[1.+0.j]]\n",
            "[[0.+0.j]]\n"
          ]
        }
      ]
    },
    {
      "cell_type": "markdown",
      "source": [
        "**Answer** The above shows that the overlaps between each state in a different basis is 1/2. This sort of makes sense as each state is like a halfway point along the Bloch sphere between the two points of a different basis. We also see that each pair given in Problem 1.2 forms an orthonormal basis because they are pairwise orthogonal unit vectors."
      ],
      "metadata": {
        "id": "0KOdmlHmoRhe"
      }
    },
    {
      "cell_type": "markdown",
      "source": [
        "**Problem 1.4 (Statevector in Qiskit)** We have now seen some structure of qubit states using NumPy. Qiskit handles quantum states in effectively the same manner, but has its own class `Statevector`, which we will use for clarity. For example, we can define the statevector for the zero state using\n",
        "\n",
        "\n",
        "```\n",
        "  sv_mtilde = Statevector(mtilde_state)\n",
        "```\n",
        "\n",
        "We can also verify this works using the print function for the state vector, e.g.\n",
        "\n",
        "```\n",
        "  print(sv_mtilde)\n",
        "```\n",
        "\n",
        "a. Copy the code above and verify it works as you would expect. Note that the Statevector is a class that includes the dimension of the system. \\\\\n",
        "b. Declare `sv_psi = Statevector(1/sqrt(0.58)*np.array([0.3,0.7]))` and verify the print methods still work. This shows you can define the array used in the state vector function directly. \\\\\n",
        "c. Verify that `np.vdot()`, another way of calculating inner product, works on Statevectors. \\\\\n",
        "d. Define a statevector for a qutrit (three-dimensional quantum system) of your choice \\\\"
      ],
      "metadata": {
        "id": "pyizRORmoqod"
      }
    },
    {
      "cell_type": "code",
      "source": [
        "#1.4.a\n",
        "sv_mtilde = Statevector(mtilde_state)\n",
        "print(sv_mtilde)"
      ],
      "metadata": {
        "colab": {
          "base_uri": "https://localhost:8080/"
        },
        "id": "USsaw2s9op3z",
        "outputId": "d0ad8900-9f54-4afc-c1a0-6bb0abefaf15"
      },
      "execution_count": null,
      "outputs": [
        {
          "output_type": "stream",
          "name": "stdout",
          "text": [
            "Statevector([0.70710678+0.j        , 0.        -0.70710678j],\n",
            "            dims=(2,))\n"
          ]
        }
      ]
    },
    {
      "cell_type": "code",
      "source": [
        "#1.4.b\n",
        "sv_psi = Statevector(1/sqrt(0.58)*np.array([0.3,0.7]))\n",
        "print(sv_psi)"
      ],
      "metadata": {
        "id": "_nXhBUr0okpZ",
        "colab": {
          "base_uri": "https://localhost:8080/"
        },
        "outputId": "a9d5669b-ac10-409b-b3f8-3006ac2f9133"
      },
      "execution_count": null,
      "outputs": [
        {
          "output_type": "stream",
          "name": "stdout",
          "text": [
            "Statevector([0.3939193 +0.j, 0.91914503+0.j],\n",
            "            dims=(2,))\n"
          ]
        }
      ]
    },
    {
      "cell_type": "code",
      "source": [
        "#1.4.c\n",
        "np.vdot(sv_mtilde,sv_mtilde)"
      ],
      "metadata": {
        "colab": {
          "base_uri": "https://localhost:8080/"
        },
        "id": "IG5sHIdp0mYk",
        "outputId": "9dc3a928-4643-44d4-d130-b0e235255573"
      },
      "execution_count": null,
      "outputs": [
        {
          "output_type": "execute_result",
          "data": {
            "text/plain": [
              "(0.9999999999999998+0j)"
            ]
          },
          "metadata": {},
          "execution_count": 12
        }
      ]
    },
    {
      "cell_type": "code",
      "source": [
        "#1.4.d\n",
        "sv_phi = Statevector(1/sqrt(3)*np.array([1,1,1]))\n",
        "print(sv_phi)"
      ],
      "metadata": {
        "colab": {
          "base_uri": "https://localhost:8080/"
        },
        "id": "SijqDDqMzdR9",
        "outputId": "38efbe91-a38f-4720-a625-cef70c76b80b"
      },
      "execution_count": null,
      "outputs": [
        {
          "output_type": "stream",
          "name": "stdout",
          "text": [
            "Statevector([0.57735027+0.j, 0.57735027+0.j, 0.57735027+0.j],\n",
            "            dims=(3,))\n"
          ]
        }
      ]
    },
    {
      "cell_type": "markdown",
      "source": [
        "## Exercises 2: Working with Unitaries (a.k.a. Quantum Gates)"
      ],
      "metadata": {
        "id": "dzmza5wv1FM6"
      }
    },
    {
      "cell_type": "markdown",
      "source": [
        "We just saw that a unitary $U$ acting on vector space $\\mathbb{C}^{d}$ is a $d \\times d$ matrix satisfying $U^{\\dagger}U = \\mathbb{1}_{\\mathbb{C}^{d}} = UU^{\\dagger}$ where $M^{\\dagger}$ is the conjugate transpose of a matrix $M$. Here we investigate some specific examples of such unitaries.\n",
        "\n",
        "**Syntax Note:** Recall in NumPy, given a (complex) matrix `M = np.matrix([[a,b],[c,d]])`, `M.H` returns $M^{\\dagger}$."
      ],
      "metadata": {
        "id": "4o4Jg9Yy1zAd"
      }
    },
    {
      "cell_type": "markdown",
      "source": [
        "**Problem 2.1 (Pauli Matrices)** The Pauli matrices,\n",
        "$$ X = \\begin{bmatrix} 0 & 1 \\\\ 1 & 0 \\end{bmatrix} \\quad Y = \\begin{bmatrix} 0 & -i \\\\ i & 0 \\end{bmatrix} \\quad Z = \\begin{bmatrix} 1 & 0 \\\\ 0 & -1 \\end{bmatrix}  \\ , $$ are integral to quantum information theory. Here we explore a few properties of them numerically. \\\\\n",
        "a. Declare the Pauli matrices as matrices via NumPy. \\\\\n",
        "b. Verify that $M^{\\dagger} = M$ for $M \\in \\{X,Y,Z\\}$. \\\\\n",
        "c. Verify that each is a unitary. \\\\\n",
        "d. Verify $ZX = -i Y$ and $XZ = i Y$. This highlights that matrix multiplication *does not commute*, which is crucial in quantum mechanics.\n",
        "\n",
        "**Syntax Note:** For matrices, NumPy denotes matrix multiplication with `*`, e.g. multiplying matrices `M` and `N` can be written `M * N`."
      ],
      "metadata": {
        "id": "cyGcTfViAVCH"
      }
    },
    {
      "cell_type": "code",
      "source": [
        "#2.1.a\n",
        "PauliX = np.matrix([[0,1],[1,0]])\n",
        "PauliY = np.matrix([[0,-1j],[1j,0]])\n",
        "PauliZ = np.matrix([[1,0],[0,-1]])"
      ],
      "metadata": {
        "id": "RvribzITAUVj"
      },
      "execution_count": null,
      "outputs": []
    },
    {
      "cell_type": "code",
      "source": [
        "#2.1.b\n",
        "PauliX - PauliX.H== np.matrix([[0,0],[0,0]])\n",
        "PauliY - PauliY.H== np.matrix([[0,0],[0,0]])\n",
        "PauliZ - PauliZ.H== np.matrix([[0,0],[0,0]])"
      ],
      "metadata": {
        "colab": {
          "base_uri": "https://localhost:8080/"
        },
        "id": "6Q2yp_jy1seS",
        "outputId": "453fcc76-9331-4030-b2f8-45fe6da5bf1e"
      },
      "execution_count": null,
      "outputs": [
        {
          "output_type": "execute_result",
          "data": {
            "text/plain": [
              "matrix([[ True,  True],\n",
              "        [ True,  True]])"
            ]
          },
          "metadata": {},
          "execution_count": 15
        }
      ]
    },
    {
      "cell_type": "code",
      "source": [
        "#2.1.c\n",
        "PauliX.H * PauliX == np.matrix([[1,0],[0,1]])\n",
        "PauliY.H * PauliY == np.matrix([[1,0],[0,1]])\n",
        "PauliZ.H * PauliZ == np.matrix([[1,0],[0,1]])"
      ],
      "metadata": {
        "colab": {
          "base_uri": "https://localhost:8080/"
        },
        "id": "W8Zhu34K26PE",
        "outputId": "ee6fa3f7-0a91-41f8-af79-f09292af06e4"
      },
      "execution_count": null,
      "outputs": [
        {
          "output_type": "execute_result",
          "data": {
            "text/plain": [
              "matrix([[ True,  True],\n",
              "        [ True,  True]])"
            ]
          },
          "metadata": {},
          "execution_count": 16
        }
      ]
    },
    {
      "cell_type": "code",
      "source": [
        "#2.1.d\n",
        "PauliZ * PauliX == 1j * PauliY\n",
        "PauliX * PauliZ == -1j * PauliY"
      ],
      "metadata": {
        "colab": {
          "base_uri": "https://localhost:8080/"
        },
        "id": "yGcSPFWA3KSG",
        "outputId": "31f7f796-2613-4b8e-a490-e9ae3493633a"
      },
      "execution_count": null,
      "outputs": [
        {
          "output_type": "execute_result",
          "data": {
            "text/plain": [
              "matrix([[ True,  True],\n",
              "        [ True,  True]])"
            ]
          },
          "metadata": {},
          "execution_count": 17
        }
      ]
    },
    {
      "cell_type": "markdown",
      "source": [
        "**Problem 2.2 (Pauli Matrices acting on Qubits)** Given Problem 2.1.d, we can focus on $X,Z$, which have interpretations as being the \"bit flip\" and \"phase flip\" operator respectively as we now verify. \\\\\n",
        "a. Verify $X\\vert 0 \\rangle = \\vert 1 \\rangle$, $X \\vert 1 \\rangle = \\vert 0 \\rangle$. Why does this make it the \"bit flip\" operator? (**Syntax Hint** By our syntax, vectors are treated as matrices.) \\\\\n",
        "b. Verify $Z\\vert 0 \\rangle = \\vert 0 \\rangle$, $Z \\vert 1 \\rangle = -\\vert 1 \\rangle$. This make it the \"phase flip\" operator as it flips the `phase' (from one to negative one) when the input is the $\\vert 1 \\rangle$."
      ],
      "metadata": {
        "id": "2fWjI09lEPWj"
      }
    },
    {
      "cell_type": "code",
      "source": [
        "#2.2.a\n",
        "print(PauliX * zero_state == one_state)\n",
        "print(PauliX * one_state== zero_state)"
      ],
      "metadata": {
        "colab": {
          "base_uri": "https://localhost:8080/"
        },
        "id": "3zLy0Ps84mQJ",
        "outputId": "ebcdc696-1861-41bf-f8be-86025dba0b9f"
      },
      "execution_count": null,
      "outputs": [
        {
          "output_type": "stream",
          "name": "stdout",
          "text": [
            "[[ True]\n",
            " [ True]]\n",
            "[[ True]\n",
            " [ True]]\n"
          ]
        }
      ]
    },
    {
      "cell_type": "markdown",
      "source": [
        "**Answer:** This is the \"bit flip\" operator as if we encode classical information in the computational basis, $\\sigma_{X}$ will flip the value of the bit."
      ],
      "metadata": {
        "id": "70r7Db5RFwKm"
      }
    },
    {
      "cell_type": "code",
      "source": [
        "#2.2.b\n",
        "print(PauliZ * zero_state == zero_state)\n",
        "print(PauliZ * one_state== -1*one_state)"
      ],
      "metadata": {
        "colab": {
          "base_uri": "https://localhost:8080/"
        },
        "id": "ROrre9x5FvCP",
        "outputId": "ce7db68f-f2e1-4351-f5d7-861348bd49d7"
      },
      "execution_count": null,
      "outputs": [
        {
          "output_type": "stream",
          "name": "stdout",
          "text": [
            "[[ True]\n",
            " [ True]]\n",
            "[[ True]\n",
            " [ True]]\n"
          ]
        }
      ]
    },
    {
      "cell_type": "markdown",
      "source": [
        "**Problem 2.3 (Hadamard Gate)** The Hadamard gate,\n",
        "$$ H = \\frac{1}{\\sqrt{2}} \\begin{bmatrix} 1 & 1 \\\\ 1 & - 1 \\end{bmatrix} \\ ,  $$\n",
        "is the remaining `one-qubit' gate we will use. \\\\\n",
        "a. Declare the Hadamard gate via NumPy. \\\\\n",
        "b. Verify that $H^{\\dagger} = H$. \\\\\n",
        "c. Verify that $H\\vert 0 \\rangle = \\vert + \\rangle$, $H\\vert + \\rangle = \\vert 0 \\rangle$, $H\\vert 1 \\rangle = \\vert - \\rangle$, and $H\\vert - \\rangle = \\vert + \\rangle$. What does this tell you?"
      ],
      "metadata": {
        "id": "TR9aHPY8F9uP"
      }
    },
    {
      "cell_type": "code",
      "source": [
        "#2.3.a\n",
        "H = 1/sqrt(2)*np.matrix([[1,1],[1,-1]])"
      ],
      "metadata": {
        "id": "VBpLOKrCFiEZ"
      },
      "execution_count": null,
      "outputs": []
    },
    {
      "cell_type": "code",
      "source": [
        "#2.3.b\n",
        "H-H.H == np.zeros(2)"
      ],
      "metadata": {
        "colab": {
          "base_uri": "https://localhost:8080/"
        },
        "id": "uv0aqfciHAMv",
        "outputId": "66b9a377-fe05-49dc-b9ca-7239acfa898c"
      },
      "execution_count": null,
      "outputs": [
        {
          "output_type": "execute_result",
          "data": {
            "text/plain": [
              "matrix([[ True,  True],\n",
              "        [ True,  True]])"
            ]
          },
          "metadata": {},
          "execution_count": 21
        }
      ]
    },
    {
      "cell_type": "code",
      "source": [
        "#2.3.c\n",
        "print(H * zero_state == plus_state)\n",
        "print(H * one_state == minus_state)"
      ],
      "metadata": {
        "colab": {
          "base_uri": "https://localhost:8080/"
        },
        "id": "YWiF5IzUHD16",
        "outputId": "dbd8eb85-094c-42b0-c6fb-b3a796de98ff"
      },
      "execution_count": null,
      "outputs": [
        {
          "output_type": "stream",
          "name": "stdout",
          "text": [
            "[[ True]\n",
            " [ True]]\n",
            "[[ True]\n",
            " [ True]]\n"
          ]
        }
      ]
    },
    {
      "cell_type": "code",
      "source": [
        "H*plus_state"
      ],
      "metadata": {
        "colab": {
          "base_uri": "https://localhost:8080/"
        },
        "id": "sAoGTLwKHL-V",
        "outputId": "9e5423e2-d1f7-4bd6-9a0b-16d1663ade3a"
      },
      "execution_count": null,
      "outputs": [
        {
          "output_type": "execute_result",
          "data": {
            "text/plain": [
              "matrix([[1.00000000e+00],\n",
              "        [2.23711432e-17]])"
            ]
          },
          "metadata": {},
          "execution_count": 23
        }
      ]
    },
    {
      "cell_type": "code",
      "source": [
        "H*minus_state"
      ],
      "metadata": {
        "colab": {
          "base_uri": "https://localhost:8080/"
        },
        "id": "6cJFa23ZIOf9",
        "outputId": "e9934ee9-3652-4d63-8706-3283581a9223"
      },
      "execution_count": null,
      "outputs": [
        {
          "output_type": "execute_result",
          "data": {
            "text/plain": [
              "matrix([[2.23711432e-17],\n",
              "        [1.00000000e+00]])"
            ]
          },
          "metadata": {},
          "execution_count": 24
        }
      ]
    },
    {
      "cell_type": "markdown",
      "source": [
        "**Answer:** This tells us that the Hadamard moves us between these two bases."
      ],
      "metadata": {
        "id": "70WAbTGvIW_d"
      }
    },
    {
      "cell_type": "markdown",
      "source": [
        "**Problem 2.4 (Quantum Circuits in Qiskit)** A quantum circuit is one large unitary that is built out of a sequence of \"smaller\" quantum unitaries called \"quantum gates.\" Qiskit gives a simple manner for writing down quantum circuits. By appending common gates to the circuit to build it up and printing out the circuit to verify it does what one wants. \\\\\n",
        "\n",
        "a. Copy and run the following code snippet.\n",
        "\n",
        "\n",
        "```\n",
        "  num_qubits = 1\n",
        "  qc = QuantumCircuit(num_qubits)\n",
        "  qc.x(0)\n",
        "  qc.h(0)\n",
        "  print(qc)\n",
        "```\n",
        "Note that what it does is apply the Pauli $X$ gate to the single qubit and then the Hadamard gate $H$ afterwards. It acts on the \"zero-th\" register as we use computer science indexing. \\\\\n",
        "\n",
        "b. Given the above code snippet, define a circuit that applies a Hadamard gate, then a Z gate, then an X gate, then a H gate, and finally a Z gate again. Verify this worked by printing the circuit. As one might imagine, to implement the Z gate on the zero-th register, one may use `qc.z(0)`.\n",
        "\n"
      ],
      "metadata": {
        "id": "kreA0A1YInbc"
      }
    },
    {
      "cell_type": "code",
      "source": [
        "#2.4.a\n",
        "num_qubits = 1\n",
        "qc = QuantumCircuit(num_qubits)\n",
        "qc.x(0)\n",
        "qc.h(0)\n",
        "print(qc)"
      ],
      "metadata": {
        "colab": {
          "base_uri": "https://localhost:8080/"
        },
        "id": "tlg8dWLAImn5",
        "outputId": "23e92d84-b935-4045-eb0d-a2fc515073a3"
      },
      "execution_count": null,
      "outputs": [
        {
          "output_type": "stream",
          "name": "stdout",
          "text": [
            "   ┌───┐┌───┐\n",
            "q: ┤ X ├┤ H ├\n",
            "   └───┘└───┘\n"
          ]
        }
      ]
    },
    {
      "cell_type": "code",
      "source": [
        "#2.4.b\n",
        "num_qubits = 1\n",
        "qc = QuantumCircuit(num_qubits)\n",
        "qc.h(0)\n",
        "qc.z(0)\n",
        "qc.x(0)\n",
        "qc.h(0)\n",
        "qc.z(0)\n",
        "print(qc)"
      ],
      "metadata": {
        "colab": {
          "base_uri": "https://localhost:8080/"
        },
        "id": "AbmnWghlIWo2",
        "outputId": "021c292f-b852-443c-a1ee-bee02915619f"
      },
      "execution_count": null,
      "outputs": [
        {
          "output_type": "stream",
          "name": "stdout",
          "text": [
            "   ┌───┐┌───┐┌───┐┌───┐┌───┐\n",
            "q: ┤ H ├┤ Z ├┤ X ├┤ H ├┤ Z ├\n",
            "   └───┘└───┘└───┘└───┘└───┘\n"
          ]
        }
      ]
    },
    {
      "cell_type": "markdown",
      "source": [
        "## Exercises 3 (A Complete Circuit Implementation)"
      ],
      "metadata": {
        "id": "5OzyDc3NLBzN"
      }
    },
    {
      "cell_type": "markdown",
      "source": [
        "We have now introduced measurements, which were the last piece to implementing a quantum circuit. We will now build a circuit for a quantum random number generator using Qiskit. We will do this in steps to learn the syntax."
      ],
      "metadata": {
        "id": "sRm_hgG4LcLf"
      }
    },
    {
      "cell_type": "markdown",
      "source": [
        "### Problem 3.1 - No Simulator"
      ],
      "metadata": {
        "id": "_aQjpQY69BO7"
      }
    },
    {
      "cell_type": "markdown",
      "source": [
        "We begin by implementing the circuit in a manner that does not use a noisy simulator. This is to make sure we understand the conceptual point first."
      ],
      "metadata": {
        "id": "JmF36mJq9HuE"
      }
    },
    {
      "cell_type": "markdown",
      "source": [
        "**Problem 3.1.a** Before we used a single quantum register. We will in the second version also need a classical register to store the output of the measurement, so we introduce it here for simplicity. Input the code\n",
        "\n",
        "```\n",
        "  num_qubits = 1\n",
        "  num_cbits = 1\n",
        "  qc = QuantumCircuit(num_qubits,num_cbits)\n",
        "```\n",
        "and then print it to see what displays. Note the output should be very minimal, but it should display something that makes it clear to you there is one quantum register and one classical register.\n",
        "\n"
      ],
      "metadata": {
        "id": "hclf4dt3pmgC"
      }
    },
    {
      "cell_type": "code",
      "source": [
        "  #3.1.a\n",
        "  num_qubits = 1\n",
        "  num_cbits = 1\n",
        "  qc = QuantumCircuit(num_qubits,num_cbits)\n",
        "  print(qc)"
      ],
      "metadata": {
        "colab": {
          "base_uri": "https://localhost:8080/"
        },
        "id": "w3OVYZXs8xJK",
        "outputId": "2bea93e6-479c-42c0-f5c2-112f3b7d207f"
      },
      "execution_count": null,
      "outputs": [
        {
          "output_type": "stream",
          "name": "stdout",
          "text": [
            "     \n",
            "  q: \n",
            "     \n",
            "c: 1/\n",
            "     \n"
          ]
        }
      ]
    },
    {
      "cell_type": "markdown",
      "source": [
        "**Problem 3.1.b** Now apply a Hadamard gate to the quantum register. The syntax should be clear from Exercises 2. Print your circuit to make sure it looks correct."
      ],
      "metadata": {
        "id": "rGzj6bFi9awm"
      }
    },
    {
      "cell_type": "code",
      "source": [
        "#3.1.b\n",
        "num_qubits = 1\n",
        "num_cbits = 1\n",
        "qc = QuantumCircuit(num_qubits,num_cbits)\n",
        "qc.h(0)\n",
        "print(qc)"
      ],
      "metadata": {
        "id": "jsJWO8StLbJk",
        "colab": {
          "base_uri": "https://localhost:8080/"
        },
        "outputId": "b672e796-4fb0-405a-cafb-d3d5d707fb42"
      },
      "execution_count": null,
      "outputs": [
        {
          "output_type": "stream",
          "name": "stdout",
          "text": [
            "     ┌───┐\n",
            "  q: ┤ H ├\n",
            "     └───┘\n",
            "c: 1/═════\n",
            "          \n"
          ]
        }
      ]
    },
    {
      "cell_type": "markdown",
      "source": [
        "We will now run this circuit on input states using the `Statevector` function introduced in Exercises 1. The `Statevector` class has a method `probabilities_dict()` which returns the output probabilities of measuring the given quantum state in the computational basis.\n",
        "\n",
        "**Problem 3.1.c** Initialize the state $\\vert 0 \\rangle$ and look at its measurement outcomes in the computational basis using the `plot_histogram' function. Explain the answer given the lecture's explanation of measurements."
      ],
      "metadata": {
        "id": "I2sCDqf99n4b"
      }
    },
    {
      "cell_type": "code",
      "source": [
        "#3.1.c\n",
        "init_sv = Statevector(np.array([1,0]))\n",
        "init_probs = init_sv.probabilities_dict()\n",
        "plot_histogram(init_probs)"
      ],
      "metadata": {
        "colab": {
          "base_uri": "https://localhost:8080/",
          "height": 449
        },
        "id": "DorHZiUTr5H6",
        "outputId": "1e2b943e-e489-44dd-a51c-7fea797a5337"
      },
      "execution_count": null,
      "outputs": [
        {
          "output_type": "execute_result",
          "data": {
            "text/plain": [
              "<Figure size 640x480 with 1 Axes>"
            ],
            "image/png": "[encoded data removed]"
          },
          "metadata": {},
          "execution_count": 30
        }
      ]
    },
    {
      "cell_type": "markdown",
      "source": [
        "**Answer:** The outcome is always $\\vert 0 \\rangle$ because we prepared a computational basis state and measured in the computational basis state, so we may use Born's rule to verify the probability of outcome $\\vert 0 \\rangle$ is $1$."
      ],
      "metadata": {
        "id": "RUoW2tuQ_DVw"
      }
    },
    {
      "cell_type": "markdown",
      "source": [
        "**Problem 3.1.d** The `evolve(circuit)` method for `Statevector` applies the mathematical representation of `circuit`. Use\n",
        "\n",
        "```\n",
        "  final_sv = init_sv.evolve(qc)\n",
        "```\n",
        "and then print the output probabilities as we did before. What does this tell you? Combining everything we have seen in lecture so far, explain why this is the case?\n",
        "\n",
        "**Hint:** If you don't know why it is the case, think about what the Hadamard gate does.\n",
        "\n",
        "\n",
        "\n"
      ],
      "metadata": {
        "id": "xH3dGqBn_Uwu"
      }
    },
    {
      "cell_type": "code",
      "source": [
        "#3.1.d\n",
        "final_sv = init_sv.evolve(qc)\n",
        "final_probs = final_sv.probabilities_dict()\n",
        "plot_histogram(final_probs)"
      ],
      "metadata": {
        "colab": {
          "base_uri": "https://localhost:8080/",
          "height": 449
        },
        "id": "y_b1yKdQ_38R",
        "outputId": "16d312e3-2196-4596-9a34-86e2785e9e19"
      },
      "execution_count": null,
      "outputs": [
        {
          "output_type": "execute_result",
          "data": {
            "text/plain": [
              "<Figure size 640x480 with 1 Axes>"
            ],
            "image/png": "[encoded data removed]"
          },
          "metadata": {},
          "execution_count": 31
        }
      ]
    },
    {
      "cell_type": "markdown",
      "source": [
        "**Answer:** The histogram shows us that both computational outcomes have probability 1/2. This means we have built a random number generator. The reason this works is because $H\\vert 0 \\rangle = \\vert + \\rangle = \\frac{1}{\\sqrt{2}}\\left(\\vert 0 \\rangle + \\vert 1 \\rangle \\right)$ so by Born's rule, the probability of each outcome is $(\\frac{1}{\\sqrt{2}})^{2} = \\frac{1}{2}$."
      ],
      "metadata": {
        "id": "eiw14OWBD5h4"
      }
    },
    {
      "cell_type": "markdown",
      "source": [
        "**Problem 3.1.e** What happens if instead the initial vector is $\\vert + \\rangle$? Guess and numerically verify. Also feel free to see what happens for other input states."
      ],
      "metadata": {
        "id": "Iu8ghaKvEuBZ"
      }
    },
    {
      "cell_type": "markdown",
      "source": [
        "**Guess:** It should not work as a random generator because $H\\vert + \\rangle = \\vert 0 \\rangle$ so the outcome will always be $\\vert 0 \\rangle$. If we modify the input, we can bias the distribution."
      ],
      "metadata": {
        "id": "DHvAxJbgFTj4"
      }
    },
    {
      "cell_type": "code",
      "source": [
        "#3.1.e\n",
        "init_sv = Statevector(1/sqrt(2)*np.array([1,1]))\n",
        "final_sv = init_sv.evolve(qc)\n",
        "plot_histogram(final_sv.probabilities_dict())"
      ],
      "metadata": {
        "colab": {
          "base_uri": "https://localhost:8080/",
          "height": 449
        },
        "id": "iCkTvT-CFlqv",
        "outputId": "bb7716bf-61f6-4ea6-f55e-2ad948834d53"
      },
      "execution_count": null,
      "outputs": [
        {
          "output_type": "execute_result",
          "data": {
            "text/plain": [
              "<Figure size 640x480 with 1 Axes>"
            ],
            "image/png": "[encoded data removed]"
          },
          "metadata": {},
          "execution_count": 32
        }
      ]
    },
    {
      "cell_type": "markdown",
      "source": [
        "### Problem 3.2 Using a Simulator"
      ],
      "metadata": {
        "id": "EwfKlJlNGAF7"
      }
    },
    {
      "cell_type": "markdown",
      "source": [
        "Qiskit is built to integrate with IBM's cloud quantum computing infrastructure. While we won't use their cloud quantum computers, Qiskit also provides methods for locally simulating noiseless and noisy quantum circuits. Here we just simulate our quantum random number generator in the noiseless setting to introduce these ideas. Further information may be found [Qiskit's documentation](https://qiskit.github.io/ecosystem/)."
      ],
      "metadata": {
        "id": "WCJL4aWwGDa8"
      }
    },
    {
      "cell_type": "markdown",
      "source": [
        "Recall we defined the quantum circuit to have a classical register. This is so that we have a classical register that stores the outcome of the measurement in a real implementation. We did not need this previously as we extracted the information from the statevectors we defined.\n",
        "\n",
        "**Problem 3.2.a** Print your circuit to make sure it is still the random number generator circuit built in the previous problem. Then use the method `measure(qbit,cbit)` to measure the $0^{th}$ qubit register in the computational basis and store it in the $0^{th}$ classical bit register. Note that this method is appended to a circuit the same way previous gates have been. Print the circuit to verify it has been implemented correctly."
      ],
      "metadata": {
        "id": "2XrOvZlQGrQh"
      }
    },
    {
      "cell_type": "code",
      "source": [
        "#3.2.a\n",
        "qc.measure(0,0)\n",
        "print(qc)"
      ],
      "metadata": {
        "colab": {
          "base_uri": "https://localhost:8080/"
        },
        "id": "EDxGdJpvHy4J",
        "outputId": "072c5a96-54fd-4c5d-b9f1-67a4fb6fe962"
      },
      "execution_count": null,
      "outputs": [
        {
          "output_type": "stream",
          "name": "stdout",
          "text": [
            "     ┌───┐┌─┐\n",
            "  q: ┤ H ├┤M├\n",
            "     └───┘└╥┘\n",
            "c: 1/══════╩═\n",
            "           0 \n"
          ]
        }
      ]
    },
    {
      "cell_type": "markdown",
      "source": [
        "**Problem 3.2.b.** At this point all we need to do is declare the simulator, convert our quantum circuit to work with the simulator (transpile), run the simulator, and print the output data. Use the following code block to do so.\n",
        "\n",
        "```\n",
        "  # Transpile for simulator\n",
        "  simulator = AerSimulator()\n",
        "  qc_sim = transpile(qc, simulator)\n",
        "\n",
        "  #Run the transpiled circuit\n",
        "  result = simulator.run(qc_sim, shots=100).result()\n",
        "  counts = result.get_counts(qc_sim)\n",
        "  plot_histogram(counts, title='Computational Basis Outcome Counts')\n",
        "```\n",
        "\n",
        "Run it multiple times to verify that it is indeed being simulated and explain how you know it's simulated. Also alter the shots parameter.\n"
      ],
      "metadata": {
        "id": "R_yaDKX-IuY2"
      }
    },
    {
      "cell_type": "code",
      "source": [
        "#3.2.b\n",
        "\n",
        "# Transpile for simulator\n",
        "simulator = AerSimulator()\n",
        "qc_sim = transpile(qc, simulator)\n",
        "\n",
        "#Run the transpiled circuit\n",
        "result = simulator.run(qc_sim, shots=100).result()\n",
        "counts = result.get_counts(qc_sim)\n",
        "plot_histogram(counts, title='Computational Basis Outcome Counts')"
      ],
      "metadata": {
        "colab": {
          "base_uri": "https://localhost:8080/",
          "height": 471
        },
        "id": "bY2p0lenJElC",
        "outputId": "ca994552-a097-4405-e148-78c3c3bcb0f0"
      },
      "execution_count": null,
      "outputs": [
        {
          "output_type": "execute_result",
          "data": {
            "text/plain": [
              "<Figure size 640x480 with 1 Axes>"
            ],
            "image/png": "[encoded data removed]"
          },
          "metadata": {},
          "execution_count": 37
        }
      ]
    },
    {
      "cell_type": "markdown",
      "source": [
        "**Answer:** I know it's simulated because the number of outcome counts varies."
      ],
      "metadata": {
        "id": "EW6oykdARvcW"
      }
    },
    {
      "cell_type": "markdown",
      "source": [
        "## Exercises 4 (Multiqubit Circuits)"
      ],
      "metadata": {
        "id": "5s0gmZ7dMACs"
      }
    },
    {
      "cell_type": "markdown",
      "source": [
        "With the introduction of multiple qubits, we can begin simulating general quantum circuits. Here we will just study the production of the maximally entangled state $ \\vert \\Phi^{+} \\rangle = \\frac{1}{\\sqrt{2}}\\left( \\vert 00 \\rangle_{AB} + \\vert 11 \\rangle_{AB} \\right)$."
      ],
      "metadata": {
        "id": "EXi5OdVgL_nw"
      }
    },
    {
      "cell_type": "markdown",
      "source": [
        "### Problem 4.1 (Building a Maximally Entangled State)\n",
        "\n",
        "**Problem 4.1.a** Build a quantum circuit with two qubits and two classical bits by modifying previous code you used. Verify this works by printing the circuit."
      ],
      "metadata": {
        "id": "j7SJlvsAMbJc"
      }
    },
    {
      "cell_type": "code",
      "source": [
        "# 4.1.a\n",
        "num_qubits = 2\n",
        "num_cbits = 2\n",
        "qc = QuantumCircuit(num_qubits,num_cbits)\n",
        "print(qc)"
      ],
      "metadata": {
        "colab": {
          "base_uri": "https://localhost:8080/"
        },
        "id": "P_rfQOYeQ_sJ",
        "outputId": "67e7b3ac-84d9-411e-beb9-33fea1830724"
      },
      "execution_count": null,
      "outputs": [
        {
          "output_type": "stream",
          "name": "stdout",
          "text": [
            "     \n",
            "q_0: \n",
            "     \n",
            "q_1: \n",
            "     \n",
            "c: 2/\n",
            "     \n"
          ]
        }
      ]
    },
    {
      "cell_type": "markdown",
      "source": [
        "**Problem 4.1.b** Apply a Hadamard to the zero-th qubit and then apply CNOT where the zero-th qubit is the control qubit and the first qubit is the target qubit. Print the circuit to make sure you got the order of gates correct.\n",
        "\n",
        "**Syntax Hint:** The CNOT gate is denoted `cx(number-of-register-control-qubit,number-of-register-of-target-qubt)`. It is denoted as `cx` because as we saw in the lecture, it is the controlled version of the Pauli X gate."
      ],
      "metadata": {
        "id": "i4o60kaqNj54"
      }
    },
    {
      "cell_type": "code",
      "source": [
        "# 4.1.b\n",
        "qc.h(0)\n",
        "qc.cx(0,1)\n",
        "print(qc)"
      ],
      "metadata": {
        "id": "VwmCgrEPMEbi",
        "colab": {
          "base_uri": "https://localhost:8080/"
        },
        "outputId": "6c03123a-c1a4-4a48-e8b9-2b24427e79ae"
      },
      "execution_count": null,
      "outputs": [
        {
          "output_type": "stream",
          "name": "stdout",
          "text": [
            "     ┌───┐     \n",
            "q_0: ┤ H ├──■──\n",
            "     └───┘┌─┴─┐\n",
            "q_1: ─────┤ X ├\n",
            "          └───┘\n",
            "c: 2/══════════\n",
            "               \n"
          ]
        }
      ]
    },
    {
      "cell_type": "markdown",
      "source": [
        "**Problem 4.1.c** Use the `evolve` method on $\\vert 00 \\rangle$ and check the resulting state by plotting a histogram of the outcomes as we did for the quantum random number generator in Problem 3.1. Explain what you see. To initialize the state vector, instead use `Statevector.from_label('00')`.\n",
        "\n",
        "**Bonus:** See if you can instead initialize the vector by writing the $\\vert 00 \\rangle$ as a vector."
      ],
      "metadata": {
        "id": "C_w1fA--OZKa"
      }
    },
    {
      "cell_type": "code",
      "source": [
        "# 4.1.c\n",
        "init_sv = Statevector.from_label('00')\n",
        "final_sv = init_sv.evolve(qc)\n",
        "plot_histogram(final_sv.probabilities_dict())"
      ],
      "metadata": {
        "colab": {
          "base_uri": "https://localhost:8080/",
          "height": 457
        },
        "outputId": "71831793-097b-45d0-eca3-4662ab66da72",
        "id": "IPszpf1vPaV5"
      },
      "execution_count": null,
      "outputs": [
        {
          "output_type": "execute_result",
          "data": {
            "text/plain": [
              "<Figure size 640x480 with 1 Axes>"
            ],
            "image/png": "[encoded data removed]"
          },
          "metadata": {},
          "execution_count": 42
        }
      ]
    },
    {
      "cell_type": "markdown",
      "source": [
        "**Answer:** We see that the outcomes are perfectly correlated, but uniformly random over possible outcomes."
      ],
      "metadata": {
        "id": "RVzM9bN1Qedd"
      }
    },
    {
      "cell_type": "markdown",
      "source": [
        "### Problem 4.2 (Simulating Measuring the Maximally Entangled State)"
      ],
      "metadata": {
        "id": "7QGYVY6qQTlB"
      }
    },
    {
      "cell_type": "markdown",
      "source": [
        "**Problem 4.2.a** To simulate the circuit, we will need to measure the outputs into classical registers like we did in Problem 3. Use the `measure` method to measure the $i^{th}$ qubit into the $i^{th}$ classical register. Print the circuit to make sure this is done properly."
      ],
      "metadata": {
        "id": "yWN7nSylRDxQ"
      }
    },
    {
      "cell_type": "code",
      "source": [
        "# 4.2.a\n",
        "qc.measure(0,0)\n",
        "qc.measure(1,1)\n",
        "print(qc)"
      ],
      "metadata": {
        "colab": {
          "base_uri": "https://localhost:8080/"
        },
        "id": "xCaNeDzXQqOE",
        "outputId": "c7dadcd0-ff2c-482b-8074-d996ff9287c9"
      },
      "execution_count": null,
      "outputs": [
        {
          "output_type": "stream",
          "name": "stdout",
          "text": [
            "     ┌───┐     ┌─┐   \n",
            "q_0: ┤ H ├──■──┤M├───\n",
            "     └───┘┌─┴─┐└╥┘┌─┐\n",
            "q_1: ─────┤ X ├─╫─┤M├\n",
            "          └───┘ ║ └╥┘\n",
            "c: 2/═══════════╩══╩═\n",
            "                0  1 \n"
          ]
        }
      ]
    },
    {
      "cell_type": "markdown",
      "source": [
        "**Problem 4.2.b** Use the simulator code just like in Problem 3.2 to simulate preparing and measuring entangled states."
      ],
      "metadata": {
        "id": "USBdjZawSHY2"
      }
    },
    {
      "cell_type": "code",
      "source": [
        "#4.2.b\n",
        "\n",
        "# Transpile for simulator\n",
        "simulator = AerSimulator()\n",
        "qc_sim = transpile(qc, simulator)\n",
        "\n",
        "#Run the transpiled circuit\n",
        "result = simulator.run(qc_sim, shots=100).result()\n",
        "counts = result.get_counts(qc_sim)\n",
        "plot_histogram(counts, title='Computational Basis Outcome Counts')"
      ],
      "metadata": {
        "colab": {
          "base_uri": "https://localhost:8080/",
          "height": 480
        },
        "id": "8vMOY0RUQ4lF",
        "outputId": "393bbc10-6dd3-40a2-ce92-267e2d3191ed"
      },
      "execution_count": null,
      "outputs": [
        {
          "output_type": "execute_result",
          "data": {
            "text/plain": [
              "<Figure size 640x480 with 1 Axes>"
            ],
            "image/png": "[encoded data removed]"
          },
          "metadata": {},
          "execution_count": 44
        }
      ]
    },
    {
      "cell_type": "markdown",
      "source": [
        "### Problem 4.3 (Hadamard Basis Correlation)\n",
        "We now have all the tools, so all parts of the problem are stated at once. \\\\\n",
        "a. Re-do the circuit in Problem 4.2 so that it applies Hadamard gates to each register before the measurements. Print the circuit before simulating to make sure it looks correct. \\\\\n",
        "b. Explain why the circuit in part a is like measuring in the `Hadamard Basis' \\\\\n",
        "c. Look at the simulated outcomes. What does this tell you?  \n",
        "\n"
      ],
      "metadata": {
        "id": "smko_qR0SeoL"
      }
    },
    {
      "cell_type": "code",
      "source": [
        "# 4.3.a\n",
        "num_qubits = 2\n",
        "num_cbits = 2\n",
        "qc = QuantumCircuit(num_qubits,num_cbits)\n",
        "qc.h(0)\n",
        "qc.cx(0,1)\n",
        "qc.h(0)\n",
        "qc.h(1)\n",
        "qc.measure(0,0)\n",
        "qc.measure(1,1)\n",
        "print(qc)"
      ],
      "metadata": {
        "colab": {
          "base_uri": "https://localhost:8080/"
        },
        "id": "Mqn7KM3EQylC",
        "outputId": "4eaca2f9-31c5-4d36-e580-37c684319959"
      },
      "execution_count": null,
      "outputs": [
        {
          "output_type": "stream",
          "name": "stdout",
          "text": [
            "     ┌───┐     ┌───┐┌─┐   \n",
            "q_0: ┤ H ├──■──┤ H ├┤M├───\n",
            "     └───┘┌─┴─┐├───┤└╥┘┌─┐\n",
            "q_1: ─────┤ X ├┤ H ├─╫─┤M├\n",
            "          └───┘└───┘ ║ └╥┘\n",
            "c: 2/════════════════╩══╩═\n",
            "                     0  1 \n"
          ]
        }
      ]
    },
    {
      "cell_type": "markdown",
      "source": [
        "**Answer to 4.3.b:** As the measurement is in the computational basis on each register, we can \"absorb\" the Hadamard acting on the $i^{th}$ register into the definition of the basis of the measurement, so measuring in $\\{H\\vert 0 \\rangle, H\\vert 1 \\rangle\\} = \\{\\vert + \\rangle, \\vert - \\rangle \\}$, which is measuring in the Hadamard basis."
      ],
      "metadata": {
        "id": "Orc8TOYoV-Qx"
      }
    },
    {
      "cell_type": "code",
      "source": [
        "# 4.3.c\n",
        "\n",
        "# Transpile for simulator\n",
        "simulator = AerSimulator()\n",
        "qc_sim = transpile(qc, simulator)\n",
        "\n",
        "#Run the transpiled circuit\n",
        "result = simulator.run(qc_sim, shots=100).result()\n",
        "counts = result.get_counts(qc_sim)\n",
        "plot_histogram(counts, title='Computational Basis Outcome Counts')"
      ],
      "metadata": {
        "colab": {
          "base_uri": "https://localhost:8080/",
          "height": 480
        },
        "id": "5Cv3rCieV9-n",
        "outputId": "aef6cdc9-1007-485c-d1f5-601eee29a1a3"
      },
      "execution_count": null,
      "outputs": [
        {
          "output_type": "execute_result",
          "data": {
            "text/plain": [
              "<Figure size 640x480 with 1 Axes>"
            ],
            "image/png": "[encoded data removed]"
          },
          "metadata": {},
          "execution_count": 46
        }
      ]
    },
    {
      "cell_type": "markdown",
      "source": [
        "**Answer:** This shows that both parties measuring in the Hadamard basis is also perfectly correlated. This is a key idea for verifying entanglement as one can define perfectly correlated classical random distributions."
      ],
      "metadata": {
        "id": "fRx4W-QoWl2S"
      }
    },
    {
      "cell_type": "code",
      "source": [],
      "metadata": {
        "id": "hOzt1NXrWxjb"
      },
      "execution_count": null,
      "outputs": []
    }
  ]
}