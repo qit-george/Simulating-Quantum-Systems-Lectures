{
  "nbformat": 4,
  "nbformat_minor": 0,
  "metadata": {
    "colab": {
      "provenance": []
    },
    "kernelspec": {
      "name": "python3",
      "display_name": "Python 3"
    },
    "language_info": {
      "name": "python"
    }
  },
  "cells": [
    {
      "cell_type": "markdown",
      "source": [
        "# Session 2: The Power of Quantum Capabilities"
      ],
      "metadata": {
        "id": "xfOkXRgVwLAX"
      }
    },
    {
      "cell_type": "markdown",
      "source": [
        "In this session we put our mathematical and numerical skills together to study quantum protocols in communication and computation to better understand the resources quantum mechanics provides information processing."
      ],
      "metadata": {
        "id": "9tCZ2DM9xO0E"
      }
    },
    {
      "cell_type": "markdown",
      "source": [
        "## Setting Up the Notebook\n",
        "\n",
        "These are just the commands for importing the packages we will use."
      ],
      "metadata": {
        "id": "JFASksluw25x"
      }
    },
    {
      "cell_type": "code",
      "source": [
        "# Install qiskit and graphical representation we will use\n",
        "!pip install qiskit\n",
        "!pip install qiskit-aer"
      ],
      "metadata": {
        "id": "M1Z_jkLswwgL"
      },
      "execution_count": null,
      "outputs": []
    },
    {
      "cell_type": "code",
      "source": [
        "# Import relevant code from Qiskit\n",
        "from qiskit import *\n",
        "from qiskit.circuit.library import *\n",
        "from qiskit.quantum_info import Statevector\n",
        "from qiskit.visualization import plot_histogram, plot_state_city\n",
        "from qiskit_aer import AerSimulator"
      ],
      "metadata": {
        "id": "Ln3Xf6v7pmJz"
      },
      "execution_count": null,
      "outputs": []
    },
    {
      "cell_type": "code",
      "execution_count": null,
      "metadata": {
        "id": "vG_kzElwvuCV"
      },
      "outputs": [],
      "source": [
        "# Import numpy\n",
        "import numpy as np\n",
        "from numpy import sqrt #So we don't have to call math function"
      ]
    },
    {
      "cell_type": "markdown",
      "source": [
        "## Example 1: Quantum Teleportation"
      ],
      "metadata": {
        "id": "KCvJ-TtUu1c5"
      }
    },
    {
      "cell_type": "markdown",
      "source": [
        "Here we explore the power of entanglement in communication by studying quantum teleportation which allows us to send quantum information between parties using entanglement and classical communication."
      ],
      "metadata": {
        "id": "3FN_jnclUpea"
      }
    },
    {
      "cell_type": "markdown",
      "source": [
        "### Problem 1: Simulating Teleportation"
      ],
      "metadata": {
        "id": "4iSOsra62yRA"
      }
    },
    {
      "cell_type": "markdown",
      "source": [
        "We begin by simulating quantum teleportation. We split this into many steps to avoid confusion."
      ],
      "metadata": {
        "id": "kYq33h_Y3XBn"
      }
    },
    {
      "cell_type": "markdown",
      "source": [
        "**Problem 1.a** Define the initial qubit state on Alice's side. We will modify this later so we can choose what state we want to transmit."
      ],
      "metadata": {
        "id": "GIrevO2CAdK1"
      }
    },
    {
      "cell_type": "code",
      "source": [
        "#1.a\n",
        "init_sv="
      ],
      "metadata": {
        "id": "Npl0glu54KOf"
      },
      "execution_count": null,
      "outputs": []
    },
    {
      "cell_type": "markdown",
      "source": [
        "**Problem 1.b** Define a quantum circuit `qc` with 3 qubits and 3 classical bits. Then add\n",
        "```\n",
        "  qc.initialize(init_sv,0,normalize=True)\n",
        "  qc.barrier()\n",
        "```\n",
        "The first command allows you to initialize the zero-th qubit (Alice's qubit) with whatever state you want (we are using the optional control `normalize' to avoid any issues with normalization). `qc.barrier()` just draws a separation, which will make it easier to parse the circuit as we add more sections.\n",
        "\n"
      ],
      "metadata": {
        "id": "ta010funAsU4"
      }
    },
    {
      "cell_type": "code",
      "source": [
        "#1.b"
      ],
      "metadata": {
        "id": "4kgcaGRrAr2A"
      },
      "execution_count": null,
      "outputs": []
    },
    {
      "cell_type": "markdown",
      "source": [
        "**Problem 1.c** Now prepare the 1st and 2nd qubits as the maximally entangled state. This can be done using the same circuit as we used in Session 1. Put a barrier command after and print the circuit to verify it looks correct."
      ],
      "metadata": {
        "id": "K1X7uJGkByC2"
      }
    },
    {
      "cell_type": "code",
      "source": [
        "#1.c"
      ],
      "metadata": {
        "id": "GtnL6ypJ3WLW"
      },
      "execution_count": null,
      "outputs": []
    },
    {
      "cell_type": "markdown",
      "source": [
        "**Problem 1.d** Now add Alice's preprocessing in the teleportation scheme (she applies CNOT with her portion of the maximally entangled state as the target and the state she wishes to teleportat as the target). Again, add a barrier and print the circuit to make sure it looks appropriate."
      ],
      "metadata": {
        "id": "uFkGfWLNCHeN"
      }
    },
    {
      "cell_type": "code",
      "source": [
        "#1.d"
      ],
      "metadata": {
        "id": "gp-HFGDiCmK8"
      },
      "execution_count": null,
      "outputs": []
    },
    {
      "cell_type": "markdown",
      "source": [
        "**Problem 1.e** Now have Alice measure the zero-th qubit and store it in the zero-th classical bit. Have Alice do the same with the first qubit and first classical bit. Again, put a barrier and print the circuit to verify it works."
      ],
      "metadata": {
        "id": "7w4VKI7wCtrf"
      }
    },
    {
      "cell_type": "code",
      "source": [
        "#1.e"
      ],
      "metadata": {
        "id": "McD_wm6WCtUJ"
      },
      "execution_count": null,
      "outputs": []
    },
    {
      "cell_type": "markdown",
      "source": [
        "**Problem 1.f** We now need Bob to perform his correction scheme as should be depicted on the slide. To add this to the circuit, use the `c_if()` method which will apply a gate to a quantum register conditioned on a classical bit property. For example, `qc.x(0).c_if(0,1)` would apply the Pauli X gate to the zero-th qubit if the zero-th classical bit were 1.\n",
        "\n",
        "Again, print the circuit to verify it looks correct (this may be less clear as all the classical bits are represented by one line)."
      ],
      "metadata": {
        "id": "FiYOXrrdDPX4"
      }
    },
    {
      "cell_type": "code",
      "source": [
        "#1.f"
      ],
      "metadata": {
        "id": "KiyH7301EbWx"
      },
      "execution_count": null,
      "outputs": []
    },
    {
      "cell_type": "markdown",
      "source": [
        "**Problem 1.g** At this point you have implemented the quantum teleportation protocol if it has been done correctly. However, we would like to verify this. To do so, we will simulate the circuit and measure the final qubit to make sure it has the correct output probabilities. To do this:\n",
        "1. Copy the initial statevector command from above in a single cell by itself so it will be easy to manipulate.\n",
        "2. Group together all the code you did above to define the circuit. Add a measurement on Bob's qubit that is read the second (i.e. third if we were to index from 1) classical qubit. Print the circuit to make sure you have done this.\n",
        "3. Run the simulator code below on the circuit. Make sure the output makes sense to you by varying Alice's input. Note the plot will order the classical registers as c2,c1,c0.\n",
        "\n",
        "**Suggestion:** If the output is confusing, start by looking at when Alice wants to send $\\vert 0 \\rangle$ or $\\vert 1 \\rangle$."
      ],
      "metadata": {
        "id": "f3Ur2vwvFA0w"
      }
    },
    {
      "cell_type": "code",
      "source": [
        "#1.g.1"
      ],
      "metadata": {
        "id": "6nUUSG6lGA7Q"
      },
      "execution_count": null,
      "outputs": []
    },
    {
      "cell_type": "code",
      "source": [
        "#1.g.2"
      ],
      "metadata": {
        "id": "rcykl7gqwzT6"
      },
      "execution_count": null,
      "outputs": []
    },
    {
      "cell_type": "code",
      "source": [
        "#1.g.3"
      ],
      "metadata": {
        "id": "RKUhiSy1309e"
      },
      "execution_count": null,
      "outputs": []
    },
    {
      "cell_type": "markdown",
      "source": [
        "### Optional Problem: Entanglement Swapping\n",
        "It turns out that the quantum teleportation circuit can also be used to share arbitrary entangled states between parties--- even ones that don't communicate with eachother if it is done over long chains. In the case that there are only two parties, this is known as \"entanglement swapping.\" Below you can implement this."
      ],
      "metadata": {
        "id": "joWxmG9xGnVe"
      }
    },
    {
      "cell_type": "markdown",
      "source": [
        "**OptProb.a** The quantum circuit will have 4 qubits and 4 classical bits. The first two qubits will be an entangled state that Alice holds locally. Initialize such an entangled state as a state vector.\n",
        "\n",
        "**Note:** It should be a 4 dimensional vector as it is two qubits."
      ],
      "metadata": {
        "id": "xv9gdQBiHPy-"
      }
    },
    {
      "cell_type": "code",
      "source": [
        "#OptProb.a"
      ],
      "metadata": {
        "id": "XJQK8QJKGm5M"
      },
      "execution_count": null,
      "outputs": []
    },
    {
      "cell_type": "markdown",
      "source": [
        "**OptProb.b** Modify the quantum circuit from Problem 1 so that it runs the teleportation scheme on the first through third qubit (where we are using computer science notation that starts at zero) and then measures Alice's and Bob's remaining qubits. Print the circuit to make sure it makes sense.\n",
        "\n",
        "**Hint:** You will need `qc.initialize(init_sv,[0,1], normalize=True)` so that it intializes Alice's entangled state as the first two qubits."
      ],
      "metadata": {
        "id": "-gg01mMJIePd"
      }
    },
    {
      "cell_type": "code",
      "source": [
        "#OptProb.b"
      ],
      "metadata": {
        "id": "mNvLRUy57Lve"
      },
      "execution_count": null,
      "outputs": []
    },
    {
      "cell_type": "markdown",
      "source": [
        "**OptProb.c** Simulate the circuit and look at the outcomes. Verify that Alice and Bob share entanglement with this method.\n",
        "\n",
        "**Hint:** An easy way to check the entanglement is to have Alice start with the maximally entangled state and then verify Alice and Bob's final measurements are perfectly correlated. Remember that the classical bit readout will be c3,c2,c1,c0"
      ],
      "metadata": {
        "id": "8xSRDPugK94-"
      }
    },
    {
      "cell_type": "code",
      "source": [
        "#OptProb.c"
      ],
      "metadata": {
        "id": "5Eyh5GPTIU2p"
      },
      "execution_count": null,
      "outputs": []
    },
    {
      "cell_type": "markdown",
      "source": [
        "## Example 2: Deutsch-Jozsa Algorithm"
      ],
      "metadata": {
        "id": "9VIH-2i9S026"
      }
    },
    {
      "cell_type": "markdown",
      "source": [
        "Here we explore the power of superposition by simulating the Deutsch-Jozsa algorithm with a single input qubit ($n=1$). The problem is as follows: there is an unkown function $f: \\{0,1\\}^{n} \\to \\{0,1\\}$ that is promised to be either\n",
        "\n",
        "1.   **Balanced:** There are exactly $n/2$ inputs $x \\in \\{0,1\\}^{n}$ such that $f(x) = 0$.\n",
        "2.   **Constant:** $f$ takes every input to the same value (all zero or all one).\n",
        "\n",
        "The goal is to determine if $f$ is balanced or constant. Classically, in the worst case, one must ask for the value of $f$ on $2^{n-1}+1$ inputs (**why?**). One asks for the value of $f$ from an \"oracle.\" Each time one has to ask for a value from the oracle, it is called a \"query.\" Thus we say classically the \"query complexity\" of determining if the function is balanced or canstant is $2^{n-1}+1$, i.e. the query complexity of this problem is exponential in the number of bits.\n",
        "\n",
        "\n",
        "However, we can do significantly better using a \"quantum oracle.\" Here we will simulate the algorithm for the $n=1$ case, but the methodology generalizes."
      ],
      "metadata": {
        "id": "DBg9n9nOUyPi"
      }
    },
    {
      "cell_type": "markdown",
      "source": [
        "The key ingredient is building the \"quantum oracle.\" We begin by building \"bit oracle\" which for function $f$ acts on the computational basis as follows:\n",
        "$$ \\vert a,b \\rangle \\mapsto \\vert a, b \\oplus f(a) \\rangle \\ , $$\n",
        "where $\\oplus$ is the XOR.\n",
        "\n",
        "For $n=1$ there are four cases:\n",
        "1. If $f$ is the constant zero, this map is equivalent to the identity.\n",
        "2. If $f$ is the constant one, this map is equivalent to applying X to the second register.\n",
        "3. If $f(0)=0$ and $f(1)=1$, (\"balanced identity\"), this map is equivalent to applying CNOT controlled on the $a$ qubit and acting on the $b$ qubit.\n",
        "4. If $f(1) =0$ and $f(1)=0$, (\"balanced flip\"), this map is equivalent to first applying X to the second register and then applying the CNOT as described previously.\n",
        "\n",
        "**Problem 2.a.** Complete the function below so that in each case it adds the appropriate gates to enact the bit oracle described above. We have provided one case for clarity.\n",
        "\n",
        "**Hint:** Make sure to test the function by printing the circuit in the different cases"
      ],
      "metadata": {
        "id": "m1mEGwpNZiG5"
      }
    },
    {
      "cell_type": "code",
      "source": [
        "#2.a\n",
        "def DJ_bit_oracle(qc,c_reg,t_reg,choice):\n",
        "  if choice == \"constant0\":\n",
        "    # put something here\n",
        "  elif choice == \"constant1\":\n",
        "    # put something here\n",
        "  elif choice == \"balanced-id\":\n",
        "    # put something here\n",
        "  elif choice == \"balanced-flip\":\n",
        "    # put something here\n",
        "  else:\n",
        "    raise Exception(\"The choice must be constant0, constant1, balanced-id, or ballanced-flip\")\n",
        "\n",
        "  return qc"
      ],
      "metadata": {
        "id": "NnI5f2mIUmud"
      },
      "execution_count": null,
      "outputs": []
    },
    {
      "cell_type": "markdown",
      "source": [
        "**Problem 2.b** We actually don't want to use the bit oracle, but rather the phase oracle. A phase oracle instead has the following action:\n",
        "$$ \\vert a,b \\rangle \\mapsto (-1)^{f(a)} \\vert a ,b \\rangle \\ . $$\n",
        "We call this a \"phase oracle\" because the phase changes depending on $a$ and the function $f$. It turns out one can convert a bit oracle to a phase oracle by applying Hadamards on the qubit $b$ before and after the bit oracle. Define a function that implements this.\n",
        "\n",
        "**Hint:** It is easiest to simply modify the above function."
      ],
      "metadata": {
        "id": "dJYvq9PDxLh-"
      }
    },
    {
      "cell_type": "code",
      "source": [
        "#2.b"
      ],
      "metadata": {
        "id": "DWY9hElZyAwe"
      },
      "execution_count": null,
      "outputs": []
    },
    {
      "cell_type": "markdown",
      "source": [
        "**Problem 2.c** Build the quantum circuit that does the following.\n",
        "\n",
        "1. A Hadamard is applied to the zeroth qubit.\n",
        "2. The X gate is applied to the first qubit.\n",
        "3. The phase oracle is called.\n",
        "4. A Hadamard is applied to the zeroth qubit.\n",
        "5. The zeroth qubit is measured.\n",
        "\n",
        "Print the circuit to verify it follows the above instructions.\n",
        "\n",
        "**Suggestion:** Use `qc.barrier` between items in the above list to keep track.\n",
        "\n"
      ],
      "metadata": {
        "id": "BS1Og0ocz3EZ"
      }
    },
    {
      "cell_type": "code",
      "source": [
        "#2.c"
      ],
      "metadata": {
        "id": "gsGAgrk3bRGa"
      },
      "execution_count": null,
      "outputs": []
    },
    {
      "cell_type": "markdown",
      "source": [
        "**Problem 2.d** Use the simulator to see what the measurement outcome distribution is in each of the four possible cases. What does this show you?"
      ],
      "metadata": {
        "id": "4uVS0D_z0fj7"
      }
    },
    {
      "cell_type": "code",
      "source": [
        "#2.d"
      ],
      "metadata": {
        "id": "OgiKLlBkbiPq"
      },
      "execution_count": null,
      "outputs": []
    },
    {
      "cell_type": "markdown",
      "source": [
        "**Answer:**"
      ],
      "metadata": {
        "id": "K7j8nJjT0mh8"
      }
    },
    {
      "cell_type": "code",
      "source": [],
      "metadata": {
        "id": "wh7d-cPgZU6n"
      },
      "execution_count": null,
      "outputs": []
    }
  ]
}