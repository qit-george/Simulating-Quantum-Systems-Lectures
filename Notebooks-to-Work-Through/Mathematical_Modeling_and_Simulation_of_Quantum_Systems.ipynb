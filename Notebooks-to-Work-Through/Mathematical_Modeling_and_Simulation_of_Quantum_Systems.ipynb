{
  "nbformat": 4,
  "nbformat_minor": 0,
  "metadata": {
    "colab": {
      "provenance": []
    },
    "kernelspec": {
      "name": "python3",
      "display_name": "Python 3"
    },
    "language_info": {
      "name": "python"
    }
  },
  "cells": [
    {
      "cell_type": "markdown",
      "source": [
        "# Session 1: Mathematical Modeling and Simulation of Quantum Systems"
      ],
      "metadata": {
        "id": "u18ffyeyv-hO"
      }
    },
    {
      "cell_type": "markdown",
      "source": [
        "In this session we introduce the basic mathematical formalism of quantum information processing and how to manipulate this mathematical formalism in Python using NumPy and Qiskit. This both re-inforces concepts in the lecture and introduces useful syntax in Numpy and Qiskit."
      ],
      "metadata": {
        "id": "2nSXcQAiwFlz"
      }
    },
    {
      "cell_type": "markdown",
      "source": [
        "## Setting Up the Notebook\n",
        "\n",
        "These are just the commands for importing the packages we will use."
      ],
      "metadata": {
        "id": "JFASksluw25x"
      }
    },
    {
      "cell_type": "code",
      "source": [
        "# Install qiskit and graphical representation we will use\n",
        "!pip install qiskit\n",
        "!pip install qiskit-aer"
      ],
      "metadata": {
        "id": "M1Z_jkLswwgL"
      },
      "execution_count": null,
      "outputs": []
    },
    {
      "cell_type": "code",
      "source": [
        "# Import relevant code from Qiskit\n",
        "from qiskit import *\n",
        "from qiskit.circuit.library import *\n",
        "from qiskit.quantum_info import Statevector\n",
        "from qiskit.visualization import plot_histogram, plot_state_city\n",
        "from qiskit_aer import AerSimulator"
      ],
      "metadata": {
        "id": "Ln3Xf6v7pmJz"
      },
      "execution_count": null,
      "outputs": []
    },
    {
      "cell_type": "code",
      "execution_count": null,
      "metadata": {
        "id": "vG_kzElwvuCV"
      },
      "outputs": [],
      "source": [
        "# Import numpy\n",
        "import numpy as np\n",
        "from numpy import sqrt #So we don't have to call math function"
      ]
    },
    {
      "cell_type": "markdown",
      "source": [
        "## Exercises 1: Working with Quantum States"
      ],
      "metadata": {
        "id": "GCjmRrYvw6L4"
      }
    },
    {
      "cell_type": "markdown",
      "source": [
        "We saw quantum states are unit vectors\n",
        "$$ \\vert \\psi \\rangle = \\sum_{i} \\alpha_{i} \\vert i \\rangle = \\begin{bmatrix} \\alpha_{0} \\\\ \\alpha_{1} \\\\ \\vdots \\\\ \\alpha_{d} \\end{bmatrix} \\ . $$\n",
        "It follows we can represent them using packages that handle linear algebra. We will start by using NumPy. For example, we can declare the qubit state $\\vert + \\rangle = \\frac{1}{\\sqrt{2}}\\left( \\vert 0 \\rangle + \\vert 1 \\rangle \\right)$ as a vector in numpy via\n",
        "\n",
        "\n",
        "```\n",
        "  plus_state = 1/math.sqrt(2) * np.array([1,1])\n",
        "```\n",
        "Here we explore quantum states more using numerical methods.\n",
        "\n"
      ],
      "metadata": {
        "id": "7up7raCLVhmj"
      }
    },
    {
      "cell_type": "markdown",
      "source": [
        "**Problem 1.1** Initialize the following states:\n",
        "\n",
        "$\\vert 0 \\rangle = \\begin{bmatrix} 1 \\\\ 0 \\end{bmatrix}$, $\\vert 1 \\rangle = \\begin{bmatrix} 0 \\\\ 1 \\end{bmatrix}$, $\\vert + \\rangle = \\frac{1}{\\sqrt{2}}\\begin{bmatrix} 1 \\\\ 1 \\end{bmatrix}$, $\\vert - \\rangle = \\frac{1}{\\sqrt{2}}\\begin{bmatrix} 1 \\\\ -1 \\end{bmatrix}$, $\\vert \\widetilde{+} \\rangle = \\frac{1}{\\sqrt{2}}\\begin{bmatrix} 1 \\\\ i \\end{bmatrix}$, $\\vert \\widetilde{-} \\rangle = \\frac{1}{\\sqrt{2}}\\begin{bmatrix} 1 \\\\ -i \\end{bmatrix} \\  $ \\\\\n",
        "by intializing $\\vert 0 \\rangle$ and $\\vert 1 \\rangle$ and using linearity to intialize the others.\n",
        "\n",
        "**Note:** The complex number $\\alpha = 5 + i6$ is initialized as\n",
        "\n",
        "```\n",
        "  alpha = 5+6j\n",
        "```\n",
        "\n",
        "\n"
      ],
      "metadata": {
        "id": "WiKH4D1VXgdn"
      }
    },
    {
      "cell_type": "code",
      "source": [
        "zero_state = np.matrix([[1],[0]]) #Note the extra brackets so that this is a column vector\n",
        "one_state =\n",
        "plus_state =\n",
        "minus_state =\n",
        "ptilde_state =\n",
        "mtilde_state ="
      ],
      "metadata": {
        "id": "UFnxZRi7v_6r"
      },
      "execution_count": null,
      "outputs": []
    },
    {
      "cell_type": "markdown",
      "source": [
        "**Problem 1.2** It turns out that the pairs $\\{\\vert 0 \\rangle, \\vert 1 \\rangle \\}$, $\\{\\vert + \\rangle, \\vert - \\rangle \\}$, $\\{\\vert \\widetilde{+} \\rangle, \\vert \\widetilde{-} \\rangle \\}$ each form a basis for $\\mathbb{C}^{2}$, i.e. qubits. It follows they can be expressed by eachother. Verify the following identities:\n",
        "\n",
        "\n",
        "a.   $\\vert 0 \\rangle = \\frac{1}{\\sqrt{2}}\\left(\\vert + \\rangle + \\vert - \\rangle \\right)$ \\\\\n",
        "b.   $\\vert 1 \\rangle = \\frac{-i}{\\sqrt{2}}\\left(\\vert \\widetilde{+} \\rangle - \\vert \\widetilde{-} \\rangle \\right)$\n",
        "\n",
        "**Note:** One option for comparision to use the function `np.isclose()`.\n",
        "\n",
        "\n",
        "\n"
      ],
      "metadata": {
        "id": "ETB5INWJbzuP"
      }
    },
    {
      "cell_type": "code",
      "source": [
        "# 1.2.a"
      ],
      "metadata": {
        "id": "HDtbT5vycsLn"
      },
      "execution_count": null,
      "outputs": []
    },
    {
      "cell_type": "code",
      "source": [
        "# 1.2.b"
      ],
      "metadata": {
        "id": "Uj1V-lG_ekPr"
      },
      "execution_count": null,
      "outputs": []
    },
    {
      "cell_type": "markdown",
      "source": [
        "We saw we can look at the \"overlap\" between quantum states $\\vert \\psi \\rangle$, $\\vert \\phi \\rangle$ by their inner product: $\\langle \\psi \\vert \\phi \\rangle$. This can be computed by taking the complex conjugate of $\\vert \\psi \\rangle$ and multiplying it by $\\vert \\phi \\rangle$.\n",
        "\n",
        "**Problem 1.3** Calculate the overlaps and norm of some of the states declared in Problem 1.1. In particular, determine: \\\\\n",
        "a. Inner product $\\langle \\widetilde{+} \\vert - \\rangle$ \\\\\n",
        "b. Overlap $\\vert \\langle \\widetilde{+} \\vert - \\rangle \\vert^{2}$ (note the difference is this is the absolute value squared) \\\\\n",
        "c. Inner product $\\langle \\widetilde{+} \\vert \\widetilde{-} \\rangle$ \\\\\n",
        "d. The states are unit vectors, e.g. $\\vert \\langle 0 \\vert 0 \\rangle \\vert^{2} = 1$. \\\\\n",
        "\n",
        "Write down how you think these calculations result to Problem 1.2 as well as the Bloch sphere picture shown in the lecture slides.\n",
        "\n",
        "**Syntax Hint:** In NumPy, the complex conjugate of a matrix (and thus vector) `M` is returned via `M.H`. Thus, we can compute $\\vert \\widetilde{-} \\vert \\widetilde{-} \\vert^{2}$  via\n",
        "\n",
        "\n",
        "```\n",
        "  abs(mtilde_state.H * mtilde_state)**2\n",
        "```\n",
        "\n"
      ],
      "metadata": {
        "id": "Fg01VOwXbnAW"
      }
    },
    {
      "cell_type": "code",
      "source": [
        "#1.3.1"
      ],
      "metadata": {
        "id": "WSOsIHdraUSt"
      },
      "execution_count": null,
      "outputs": []
    },
    {
      "cell_type": "code",
      "source": [
        "#1.3.2"
      ],
      "metadata": {
        "id": "2hd2AywLTCQj"
      },
      "execution_count": null,
      "outputs": []
    },
    {
      "cell_type": "code",
      "source": [
        "#1.3.3"
      ],
      "metadata": {
        "id": "9Di_SAGrTCBk"
      },
      "execution_count": null,
      "outputs": []
    },
    {
      "cell_type": "code",
      "source": [
        "#1.3.4"
      ],
      "metadata": {
        "id": "PDvgH0qITB2V"
      },
      "execution_count": null,
      "outputs": []
    },
    {
      "cell_type": "markdown",
      "source": [
        "**Answer:**"
      ],
      "metadata": {
        "id": "0KOdmlHmoRhe"
      }
    },
    {
      "cell_type": "markdown",
      "source": [
        "**Problem 1.4 (Statevector in Qiskit)** We have now seen some structure of qubit states using NumPy. Qiskit handles quantum states in effectively the same manner, but has its own class `Statevector`, which we will use for clarity. For example, we can define the statevector for the zero state using\n",
        "\n",
        "\n",
        "```\n",
        "  sv_mtilde = Statevector(mtilde_state)\n",
        "```\n",
        "\n",
        "We can also verify this works using the print function for the state vector, e.g.\n",
        "\n",
        "```\n",
        "  print(sv_mtilde)\n",
        "```\n",
        "\n",
        "a. Copy the code above and verify it works as you would expect. Note that the Statevector is a class that includes the dimension of the system. \\\\\n",
        "b. Declare `sv_psi = Statevector(1/sqrt(0.58)*np.array([0.3,0.7]))` and verify the print methods still work. This shows you can define the array used in the state vector function directly. \\\\\n",
        "c. Verify that `np.vdot()`, another way of calculating inner product, works on Statevectors. \\\\\n",
        "d. Define a statevector for a qutrit (three-dimensional quantum system) of your choice \\\\"
      ],
      "metadata": {
        "id": "pyizRORmoqod"
      }
    },
    {
      "cell_type": "code",
      "source": [
        "#1.4.a"
      ],
      "metadata": {
        "id": "USsaw2s9op3z"
      },
      "execution_count": null,
      "outputs": []
    },
    {
      "cell_type": "code",
      "source": [
        "#1.4.b\n",
        "sv_psi ="
      ],
      "metadata": {
        "id": "_nXhBUr0okpZ"
      },
      "execution_count": null,
      "outputs": []
    },
    {
      "cell_type": "code",
      "source": [
        "#1.4.c"
      ],
      "metadata": {
        "id": "IG5sHIdp0mYk"
      },
      "execution_count": null,
      "outputs": []
    },
    {
      "cell_type": "code",
      "source": [
        "#1.4.d\n",
        "sv_phi ="
      ],
      "metadata": {
        "id": "SijqDDqMzdR9"
      },
      "execution_count": null,
      "outputs": []
    },
    {
      "cell_type": "markdown",
      "source": [
        "## Exercises 2: Working with Unitaries (a.k.a. Quantum Gates)"
      ],
      "metadata": {
        "id": "dzmza5wv1FM6"
      }
    },
    {
      "cell_type": "markdown",
      "source": [
        "We just saw that a unitary $U$ acting on vector space $\\mathbb{C}^{d}$ is a $d \\times d$ matrix satisfying $U^{\\dagger}U = \\mathbb{1}_{\\mathbb{C}^{d}} = UU^{\\dagger}$ where $M^{\\dagger}$ is the conjugate transpose of a matrix $M$. Here we investigate some specific examples of such unitaries.\n",
        "\n",
        "**Syntax Note:** Recall in NumPy, given a (complex) matrix `M = np.matrix([[a,b],[c,d]])`, `M.H` returns $M^{\\dagger}$."
      ],
      "metadata": {
        "id": "4o4Jg9Yy1zAd"
      }
    },
    {
      "cell_type": "markdown",
      "source": [
        "**Problem 2.1 (Pauli Matrices)** The Pauli matrices,\n",
        "$$ X = \\begin{bmatrix} 0 & 1 \\\\ 1 & 0 \\end{bmatrix} \\quad Y = \\begin{bmatrix} 0 & -i \\\\ i & 0 \\end{bmatrix} \\quad Z = \\begin{bmatrix} 1 & 0 \\\\ 0 & -1 \\end{bmatrix}  \\ , $$ are integral to quantum information theory. Here we explore a few properties of them numerically. \\\\\n",
        "a. Declare the Pauli matrices as matrices via NumPy. \\\\\n",
        "b. Verify that $M^{\\dagger} = M$ for $M \\in \\{X,Y,Z\\}$. \\\\\n",
        "c. Verify that each is a unitary. \\\\\n",
        "d. Verify $ZX = -i Y$ and $XZ = i Y$. This highlights that matrix multiplication *does not commute*, which is crucial in quantum mechanics.\n",
        "\n",
        "**Syntax Note:** For matrices, NumPy denotes matrix multiplication with `*`, e.g. multiplying matrices `M` and `N` can be written `M * N`."
      ],
      "metadata": {
        "id": "cyGcTfViAVCH"
      }
    },
    {
      "cell_type": "code",
      "source": [
        "#2.1.a\n",
        "PauliX = np.matrix([[0,1],[1,0]])\n",
        "PauliY =\n",
        "PauliZ ="
      ],
      "metadata": {
        "id": "RvribzITAUVj"
      },
      "execution_count": null,
      "outputs": []
    },
    {
      "cell_type": "code",
      "source": [
        "#2.1.b"
      ],
      "metadata": {
        "id": "6Q2yp_jy1seS"
      },
      "execution_count": null,
      "outputs": []
    },
    {
      "cell_type": "code",
      "source": [
        "#2.1.c"
      ],
      "metadata": {
        "id": "W8Zhu34K26PE"
      },
      "execution_count": null,
      "outputs": []
    },
    {
      "cell_type": "code",
      "source": [
        "#2.1.d"
      ],
      "metadata": {
        "id": "yGcSPFWA3KSG"
      },
      "execution_count": null,
      "outputs": []
    },
    {
      "cell_type": "markdown",
      "source": [
        "**Problem 2.2 (Pauli Matrices acting on Qubits)** Given Problem 2.1.d, we can focus on $X,Z$, which have interpretations as being the \"bit flip\" and \"phase flip\" operator respectively as we now verify. \\\\\n",
        "a. Verify $X\\vert 0 \\rangle = \\vert 1 \\rangle$, $X \\vert 1 \\rangle = \\vert 0 \\rangle$. Why does this make it the \"bit flip\" operator? (**Syntax Hint** By our syntax, vectors are treated as matrices.) \\\\\n",
        "b. Verify $Z\\vert 0 \\rangle = \\vert 0 \\rangle$, $Z \\vert 1 \\rangle = -\\vert 1 \\rangle$. This make it the \"phase flip\" operator as it flips the `phase' (from one to negative one) when the input is the $\\vert 1 \\rangle$."
      ],
      "metadata": {
        "id": "2fWjI09lEPWj"
      }
    },
    {
      "cell_type": "code",
      "source": [
        "#2.2.a"
      ],
      "metadata": {
        "id": "3zLy0Ps84mQJ"
      },
      "execution_count": null,
      "outputs": []
    },
    {
      "cell_type": "markdown",
      "source": [
        "**Answer:**"
      ],
      "metadata": {
        "id": "70r7Db5RFwKm"
      }
    },
    {
      "cell_type": "code",
      "source": [
        "#2.2.b"
      ],
      "metadata": {
        "id": "ROrre9x5FvCP"
      },
      "execution_count": null,
      "outputs": []
    },
    {
      "cell_type": "markdown",
      "source": [
        "**Problem 2.3 (Hadamard Gate)** The Hadamard gate,\n",
        "$$ H = \\frac{1}{\\sqrt{2}} \\begin{bmatrix} 1 & 1 \\\\ 1 & - 1 \\end{bmatrix} \\ ,  $$\n",
        "is the remaining `one-qubit' gate we will use. \\\\\n",
        "a. Declare the Hadamard gate via NumPy. \\\\\n",
        "b. Verify that $H^{\\dagger} = H$. \\\\\n",
        "c. Verify that $H\\vert 0 \\rangle = \\vert + \\rangle$, $H\\vert + \\rangle = \\vert 0 \\rangle$, $H\\vert 1 \\rangle = \\vert - \\rangle$, and $H\\vert - \\rangle = \\vert + \\rangle$. What does this tell you?"
      ],
      "metadata": {
        "id": "TR9aHPY8F9uP"
      }
    },
    {
      "cell_type": "code",
      "source": [
        "#2.3.a\n",
        "H = 1/sqrt(2)*np.matrix([[1,1],[1,-1]])"
      ],
      "metadata": {
        "id": "VBpLOKrCFiEZ"
      },
      "execution_count": null,
      "outputs": []
    },
    {
      "cell_type": "code",
      "source": [
        "#2.3.b\n",
        "H-H.H == np.zeros(2)"
      ],
      "metadata": {
        "id": "uv0aqfciHAMv"
      },
      "execution_count": null,
      "outputs": []
    },
    {
      "cell_type": "code",
      "source": [
        "#2.3.c\n",
        "print(H * zero_state == plus_state)\n",
        "print(H * one_state == minus_state)"
      ],
      "metadata": {
        "id": "YWiF5IzUHD16"
      },
      "execution_count": null,
      "outputs": []
    },
    {
      "cell_type": "code",
      "source": [
        "H*plus_state"
      ],
      "metadata": {
        "id": "sAoGTLwKHL-V"
      },
      "execution_count": null,
      "outputs": []
    },
    {
      "cell_type": "code",
      "source": [
        "H*minus_state"
      ],
      "metadata": {
        "id": "6cJFa23ZIOf9"
      },
      "execution_count": null,
      "outputs": []
    },
    {
      "cell_type": "markdown",
      "source": [
        "**Answer:** This tells us that the Hadamard moves us between these two bases."
      ],
      "metadata": {
        "id": "70WAbTGvIW_d"
      }
    },
    {
      "cell_type": "markdown",
      "source": [
        "**Problem 2.4 (Quantum Circuits in Qiskit)** A quantum circuit is one large unitary that is built out of a sequence of \"smaller\" quantum unitaries called \"quantum gates.\" Qiskit gives a simple manner for writing down quantum circuits. By appending common gates to the circuit to build it up and printing out the circuit to verify it does what one wants. \\\\\n",
        "\n",
        "a. Copy and run the following code snippet.\n",
        "\n",
        "\n",
        "```\n",
        "  num_qubits = 1\n",
        "  qc = QuantumCircuit(num_qubits)\n",
        "  qc.x(0)\n",
        "  qc.h(0)\n",
        "  print(qc)\n",
        "```\n",
        "Note that what it does is apply the Pauli $X$ gate to the single qubit and then the Hadamard gate $H$ afterwards. It acts on the \"zero-th\" register as we use computer science indexing. \\\\\n",
        "\n",
        "b. Given the above code snippet, define a circuit that applies a Hadamard gate, then a Z gate, then an X gate, then a H gate, and finally a Z gate again. Verify this worked by printing the circuit. As one might imagine, to implement the Z gate on the zero-th register, one may use `qc.z(0)`.\n",
        "\n"
      ],
      "metadata": {
        "id": "kreA0A1YInbc"
      }
    },
    {
      "cell_type": "code",
      "source": [
        "#2.4.a"
      ],
      "metadata": {
        "id": "tlg8dWLAImn5"
      },
      "execution_count": null,
      "outputs": []
    },
    {
      "cell_type": "code",
      "source": [
        "#2.4.b"
      ],
      "metadata": {
        "id": "AbmnWghlIWo2"
      },
      "execution_count": null,
      "outputs": []
    },
    {
      "cell_type": "markdown",
      "source": [
        "## Exercises 3 (A Complete Circuit Implementation)"
      ],
      "metadata": {
        "id": "5OzyDc3NLBzN"
      }
    },
    {
      "cell_type": "markdown",
      "source": [
        "We have now introduced measurements, which were the last piece to implementing a quantum circuit. We will now build a circuit for a quantum random number generator using Qiskit. We will do this in steps to learn the syntax."
      ],
      "metadata": {
        "id": "sRm_hgG4LcLf"
      }
    },
    {
      "cell_type": "markdown",
      "source": [
        "### Problem 3.1 - No Simulator"
      ],
      "metadata": {
        "id": "_aQjpQY69BO7"
      }
    },
    {
      "cell_type": "markdown",
      "source": [
        "We begin by implementing the circuit in a manner that does not use a noisy simulator. This is to make sure we understand the conceptual point first."
      ],
      "metadata": {
        "id": "JmF36mJq9HuE"
      }
    },
    {
      "cell_type": "markdown",
      "source": [
        "**Problem 3.1.a** Before we used a single quantum register. We will in the second version also need a classical register to store the output of the measurement, so we introduce it here for simplicity. Input the code\n",
        "\n",
        "```\n",
        "  num_qubits = 1\n",
        "  num_cbits = 1\n",
        "  qc = QuantumCircuit(num_qubits,num_cbits)\n",
        "```\n",
        "and then print it to see what displays. Note the output should be very minimal, but it should display something that makes it clear to you there is one quantum register and one classical register.\n",
        "\n"
      ],
      "metadata": {
        "id": "hclf4dt3pmgC"
      }
    },
    {
      "cell_type": "code",
      "source": [
        "  #3.1.a"
      ],
      "metadata": {
        "id": "w3OVYZXs8xJK"
      },
      "execution_count": null,
      "outputs": []
    },
    {
      "cell_type": "markdown",
      "source": [
        "**Problem 3.1.b** Now apply a Hadamard gate to the quantum register. The syntax should be clear from Exercises 2. Print your circuit to make sure it looks correct."
      ],
      "metadata": {
        "id": "rGzj6bFi9awm"
      }
    },
    {
      "cell_type": "code",
      "source": [
        "#3.1.b"
      ],
      "metadata": {
        "id": "jsJWO8StLbJk"
      },
      "execution_count": null,
      "outputs": []
    },
    {
      "cell_type": "markdown",
      "source": [
        "We will now run this circuit on input states using the `Statevector` function introduced in Exercises 1. The `Statevector` class has a method `probabilities_dict()` which returns the output probabilities of measuring the given quantum state in the computational basis.\n",
        "\n",
        "**Problem 3.1.c** Initialize the state $\\vert 0 \\rangle$ and look at its measurement outcomes in the computational basis using the `plot_histogram' function. Explain the answer given the lecture's explanation of measurements."
      ],
      "metadata": {
        "id": "I2sCDqf99n4b"
      }
    },
    {
      "cell_type": "code",
      "source": [
        "#3.1.c\n",
        "init_sv =\n",
        "init_probs =\n",
        "plot_histogram(init_probs)"
      ],
      "metadata": {
        "id": "DorHZiUTr5H6"
      },
      "execution_count": null,
      "outputs": []
    },
    {
      "cell_type": "markdown",
      "source": [
        "**Answer:** The outcome is always $\\vert 0 \\rangle$ because we prepared a computational basis state and measured in the computational basis state, so we may use Born's rule to verify the probability of outcome $\\vert 0 \\rangle$ is $1$."
      ],
      "metadata": {
        "id": "RUoW2tuQ_DVw"
      }
    },
    {
      "cell_type": "markdown",
      "source": [
        "**Problem 3.1.d** The `evolve(circuit)` method for `Statevector` applies the mathematical representation of `circuit`. Use\n",
        "\n",
        "```\n",
        "  final_sv = init_sv.evolve(qc)\n",
        "```\n",
        "and then print the output probabilities as we did before. What does this tell you? Combining everything we have seen in lecture so far, explain why this is the case?\n",
        "\n",
        "**Hint:** If you don't know why it is the case, think about what the Hadamard gate does.\n",
        "\n",
        "\n",
        "\n"
      ],
      "metadata": {
        "id": "xH3dGqBn_Uwu"
      }
    },
    {
      "cell_type": "code",
      "source": [
        "#3.1.d\n",
        "final_sv =\n",
        "final_probs ="
      ],
      "metadata": {
        "id": "y_b1yKdQ_38R"
      },
      "execution_count": null,
      "outputs": []
    },
    {
      "cell_type": "markdown",
      "source": [
        "**Answer:**"
      ],
      "metadata": {
        "id": "eiw14OWBD5h4"
      }
    },
    {
      "cell_type": "markdown",
      "source": [
        "**Problem 3.1.e** What happens if instead the initial vector is $\\vert + \\rangle$? Guess and numerically verify. Also feel free to see what happens for other input states."
      ],
      "metadata": {
        "id": "Iu8ghaKvEuBZ"
      }
    },
    {
      "cell_type": "markdown",
      "source": [
        "**Guess:**"
      ],
      "metadata": {
        "id": "DHvAxJbgFTj4"
      }
    },
    {
      "cell_type": "code",
      "source": [
        "#3.1.e"
      ],
      "metadata": {
        "id": "iCkTvT-CFlqv"
      },
      "execution_count": null,
      "outputs": []
    },
    {
      "cell_type": "markdown",
      "source": [
        "### Problem 3.2 Using a Simulator"
      ],
      "metadata": {
        "id": "EwfKlJlNGAF7"
      }
    },
    {
      "cell_type": "markdown",
      "source": [
        "Qiskit is built to integrate with IBM's cloud quantum computing infrastructure. While we won't use their cloud quantum computers, Qiskit also provides methods for locally simulating noiseless and noisy quantum circuits. Here we just simulate our quantum random number generator in the noiseless setting to introduce these ideas. Further information may be found [Qiskit's documentation](https://qiskit.github.io/ecosystem/)."
      ],
      "metadata": {
        "id": "WCJL4aWwGDa8"
      }
    },
    {
      "cell_type": "markdown",
      "source": [
        "Recall we defined the quantum circuit to have a classical register. This is so that we have a classical register that stores the outcome of the measurement in a real implementation. We did not need this previously as we extracted the information from the statevectors we defined.\n",
        "\n",
        "**Problem 3.2.a** Print your circuit to make sure it is still the random number generator circuit built in the previous problem. Then use the method `measure(qbit,cbit)` to measure the $0^{th}$ qubit register in the computational basis and store it in the $0^{th}$ classical bit register. Note that this method is appended to a circuit the same way previous gates have been. Print the circuit to verify it has been implemented correctly."
      ],
      "metadata": {
        "id": "2XrOvZlQGrQh"
      }
    },
    {
      "cell_type": "code",
      "source": [
        "#3.2.a"
      ],
      "metadata": {
        "id": "EDxGdJpvHy4J"
      },
      "execution_count": null,
      "outputs": []
    },
    {
      "cell_type": "markdown",
      "source": [
        "**Problem 3.2.b.** At this point all we need to do is declare the simulator, convert our quantum circuit to work with the simulator (transpile), run the simulator, and print the output data. Use the following code block to do so.\n",
        "\n",
        "```\n",
        "  # Transpile for simulator\n",
        "  simulator = AerSimulator()\n",
        "  qc_sim = transpile(qc, simulator)\n",
        "\n",
        "  #Run the transpiled circuit\n",
        "  result = simulator.run(qc_sim, shots=100).result()\n",
        "  counts = result.get_counts(qc_sim)\n",
        "  plot_histogram(counts, title='Computational Basis Outcome Counts')\n",
        "```\n",
        "\n",
        "Run it multiple times to verify that it is indeed being simulated and explain how you know it's simulated. Also alter the shots parameter.\n"
      ],
      "metadata": {
        "id": "R_yaDKX-IuY2"
      }
    },
    {
      "cell_type": "code",
      "source": [
        "#3.2.b"
      ],
      "metadata": {
        "id": "bY2p0lenJElC"
      },
      "execution_count": null,
      "outputs": []
    },
    {
      "cell_type": "markdown",
      "source": [
        "**Answer:**"
      ],
      "metadata": {
        "id": "EW6oykdARvcW"
      }
    },
    {
      "cell_type": "markdown",
      "source": [
        "## Exercises 4 (Multiqubit Circuits)"
      ],
      "metadata": {
        "id": "5s0gmZ7dMACs"
      }
    },
    {
      "cell_type": "markdown",
      "source": [
        "With the introduction of multiple qubits, we can begin simulating general quantum circuits. Here we will just study the production of the maximally entangled state $ \\vert \\Phi^{+} \\rangle = \\frac{1}{\\sqrt{2}}\\left( \\vert 00 \\rangle_{AB} + \\vert 11 \\rangle_{AB} \\right)$."
      ],
      "metadata": {
        "id": "EXi5OdVgL_nw"
      }
    },
    {
      "cell_type": "markdown",
      "source": [
        "### Problem 4.1 (Building a Maximally Entangled State)\n",
        "\n",
        "**Problem 4.1.a** Build a quantum circuit with two qubits and two classical bits by modifying previous code you used. Verify this works by printing the circuit."
      ],
      "metadata": {
        "id": "j7SJlvsAMbJc"
      }
    },
    {
      "cell_type": "code",
      "source": [
        "# 4.1.a"
      ],
      "metadata": {
        "id": "P_rfQOYeQ_sJ"
      },
      "execution_count": null,
      "outputs": []
    },
    {
      "cell_type": "markdown",
      "source": [
        "**Problem 4.1.b** Apply a Hadamard to the zero-th qubit and then apply CNOT where the zero-th qubit is the control qubit and the first qubit is the target qubit. Print the circuit to make sure you got the order of gates correct.\n",
        "\n",
        "**Syntax Hint:** The CNOT gate is denoted `cx(number-of-register-control-qubit,number-of-register-of-target-qubt)`. It is denoted as `cx` because as we saw in the lecture, it is the controlled version of the Pauli X gate."
      ],
      "metadata": {
        "id": "i4o60kaqNj54"
      }
    },
    {
      "cell_type": "code",
      "source": [
        "# 4.1.b"
      ],
      "metadata": {
        "id": "VwmCgrEPMEbi"
      },
      "execution_count": null,
      "outputs": []
    },
    {
      "cell_type": "markdown",
      "source": [
        "**Problem 4.1.c** Use the `evolve` method on $\\vert 00 \\rangle$ and check the resulting state by plotting a histogram of the outcomes as we did for the quantum random number generator in Problem 3.1. Explain what you see. To initialize the state vector, instead use `Statevector.from_label('00')`.\n",
        "\n",
        "**Bonus:** See if you can instead initialize the vector by writing the $\\vert 00 \\rangle$ as a vector."
      ],
      "metadata": {
        "id": "C_w1fA--OZKa"
      }
    },
    {
      "cell_type": "code",
      "source": [
        "# 4.1.c\n",
        "init_sv =\n",
        "final_sv = init_sv.evolve(qc)\n",
        "plot_histogram(final_sv.probabilities_dict())"
      ],
      "metadata": {
        "id": "IPszpf1vPaV5"
      },
      "execution_count": null,
      "outputs": []
    },
    {
      "cell_type": "markdown",
      "source": [
        "**Answer:** We see that the outcomes are perfectly correlated, but uniformly random over possible outcomes."
      ],
      "metadata": {
        "id": "RVzM9bN1Qedd"
      }
    },
    {
      "cell_type": "markdown",
      "source": [
        "### Problem 4.2 (Simulating Measuring the Maximally Entangled State)"
      ],
      "metadata": {
        "id": "7QGYVY6qQTlB"
      }
    },
    {
      "cell_type": "markdown",
      "source": [
        "**Problem 4.2.a** To simulate the circuit, we will need to measure the outputs into classical registers like we did in Problem 3. Use the `measure` method to measure the $i^{th}$ qubit into the $i^{th}$ classical register. Print the circuit to make sure this is done properly."
      ],
      "metadata": {
        "id": "yWN7nSylRDxQ"
      }
    },
    {
      "cell_type": "code",
      "source": [
        "# 4.2.a"
      ],
      "metadata": {
        "id": "xCaNeDzXQqOE"
      },
      "execution_count": null,
      "outputs": []
    },
    {
      "cell_type": "markdown",
      "source": [
        "**Problem 4.2.b** Use the simulator code just like in Problem 3.2 to simulate preparing and measuring entangled states."
      ],
      "metadata": {
        "id": "USBdjZawSHY2"
      }
    },
    {
      "cell_type": "code",
      "source": [
        "#4.2.b"
      ],
      "metadata": {
        "id": "8vMOY0RUQ4lF"
      },
      "execution_count": null,
      "outputs": []
    },
    {
      "cell_type": "markdown",
      "source": [
        "### Problem 4.3 (Hadamard Basis Correlation)\n",
        "We now have all the tools, so all parts of the problem are stated at once. \\\\\n",
        "a. Re-do the circuit in Problem 4.2 so that it applies Hadamard gates to each register before the measurements. Print the circuit before simulating to make sure it looks correct. \\\\\n",
        "b. Explain why the circuit in part a is like measuring in the `Hadamard Basis' \\\\\n",
        "c. Look at the simulated outcomes. What does this tell you?  \n",
        "\n"
      ],
      "metadata": {
        "id": "smko_qR0SeoL"
      }
    },
    {
      "cell_type": "code",
      "source": [
        "# 4.3.a"
      ],
      "metadata": {
        "id": "Mqn7KM3EQylC"
      },
      "execution_count": null,
      "outputs": []
    },
    {
      "cell_type": "markdown",
      "source": [
        "**Answer to 4.3.b:** As the measurement is in the computational basis on each register, we can \"absorb\" the Hadamard acting on the $i^{th}$ register into the definition of the basis of the measurement, so measuring in $\\{H\\vert 0 \\rangle, H\\vert 1 \\rangle\\} = \\{\\vert + \\rangle, \\vert - \\rangle \\}$, which is measuring in the Hadamard basis."
      ],
      "metadata": {
        "id": "Orc8TOYoV-Qx"
      }
    },
    {
      "cell_type": "code",
      "source": [
        "# 4.3.c"
      ],
      "metadata": {
        "id": "5Cv3rCieV9-n"
      },
      "execution_count": null,
      "outputs": []
    },
    {
      "cell_type": "markdown",
      "source": [
        "**Answer:**"
      ],
      "metadata": {
        "id": "fRx4W-QoWl2S"
      }
    },
    {
      "cell_type": "code",
      "source": [],
      "metadata": {
        "id": "MzfSNny1Ux5f"
      },
      "execution_count": null,
      "outputs": []
    }
  ]
}